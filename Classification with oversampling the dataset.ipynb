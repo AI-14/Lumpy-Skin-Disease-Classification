{
 "cells": [
  {
   "cell_type": "markdown",
   "metadata": {},
   "source": [
    "# Introduction\n",
    "In this notebook, we will apply oversampling technique and use the classification strategies we used in the notebook *Classification on imbalanced dataset.ipynb*"
   ]
  },
  {
   "cell_type": "markdown",
   "metadata": {},
   "source": [
    "### Imports"
   ]
  },
  {
   "cell_type": "code",
   "execution_count": 1,
   "metadata": {},
   "outputs": [],
   "source": [
    "import pandas as pd\n",
    "import numpy as np\n",
    "import time\n",
    "import datetime\n",
    "import seaborn as sn\n",
    "import matplotlib.pyplot as plt\n",
    "from imblearn.over_sampling import SMOTE\n",
    "\n",
    "from sklearn.preprocessing import StandardScaler\n",
    "from sklearn.model_selection import train_test_split, GridSearchCV\n",
    "from sklearn.linear_model import LogisticRegression, SGDClassifier\n",
    "from sklearn.svm import LinearSVC\n",
    "from sklearn.tree import DecisionTreeClassifier\n",
    "from sklearn.ensemble import RandomForestClassifier, AdaBoostClassifier, VotingClassifier, BaggingClassifier\n",
    "from sklearn.metrics import confusion_matrix, classification_report\n",
    "\n",
    "# Sometimes sklearn gives ConvergenceWarnings. So we ignore those.\n",
    "from warnings import filterwarnings\n",
    "filterwarnings('ignore')"
   ]
  },
  {
   "cell_type": "markdown",
   "metadata": {},
   "source": [
    "### Preparing and oversampling features"
   ]
  },
  {
   "cell_type": "code",
   "execution_count": 57,
   "metadata": {},
   "outputs": [
    {
     "name": "stdout",
     "output_type": "stream",
     "text": [
      "Before oversampling, X_train: (19842, 14)\n",
      "Before oversampling, y_train: (19842,)\n",
      "After oversampling, X_train: (34800, 14)\n",
      "After oversampling, y_train: (34800,)\n",
      "x_train shape = (34800, 14) | y_train shape = (34800,)\n",
      "x_test shape  = (4961, 14)  | y_test shape = (4961,)\n"
     ]
    }
   ],
   "source": [
    "# Reading the dataset.\n",
    "df = pd.read_csv('LSD_data.csv', sep=',')\n",
    "\n",
    "# Getting features and labels.\n",
    "X = df[['x', 'y', 'cld', 'dtr', 'frs', 'pet', 'pre', 'tmn', 'tmp', 'tmx', 'vap', 'wet', 'elevation', 'dominant_land_cover']].values\n",
    "y = df['lumpy'].values\n",
    "\n",
    "# Splitting into train-test in the ratio of 80-20.\n",
    "x_train, x_test, y_train, y_test = train_test_split(X, y, test_size=0.2, shuffle=True)\n",
    "\n",
    "print(f\"Before oversampling, X_train: {x_train.shape}\")\n",
    "print(f\"Before oversampling, y_train: {y_train.shape}\")\n",
    "\n",
    "# Oversampling data\n",
    "oversampler = SMOTE(sampling_strategy=\"minority\")\n",
    "x_train, y_train = oversampler.fit_resample(x_train, y_train)\n",
    "\n",
    "print(f\"After oversampling, X_train: {x_train.shape}\")\n",
    "print(f\"After oversampling, y_train: {y_train.shape}\")\n",
    "\n",
    "# Scaling the features.\n",
    "scaler = StandardScaler()\n",
    "scaler.fit(x_train)\n",
    "x_train = scaler.transform(x_train)\n",
    "x_test = scaler.transform(x_test)\n",
    "\n",
    "print(f'x_train shape = {x_train.shape} | y_train shape = {y_train.shape}')\n",
    "print(f'x_test shape  = {x_test.shape}  | y_test shape = {y_test.shape}')"
   ]
  },
  {
   "cell_type": "markdown",
   "metadata": {},
   "source": [
    "### Core classifiers"
   ]
  },
  {
   "cell_type": "markdown",
   "metadata": {},
   "source": [
    "##### Logistic Regression"
   ]
  },
  {
   "cell_type": "code",
   "execution_count": 58,
   "metadata": {},
   "outputs": [],
   "source": [
    "def log_reg_hyptune(x_train, y_train):\n",
    "    params = {\n",
    "        'penalty': ['l2'],\n",
    "        'C': [1.0, 1.5, 2.5, 3.0, 5.0, 10.0],\n",
    "    }\n",
    "\n",
    "    start_time = time.time()\n",
    "    print('Training started..')\n",
    "\n",
    "    clf = GridSearchCV(\n",
    "            estimator=LogisticRegression(), \n",
    "            param_grid=params, \n",
    "            cv=5, \n",
    "            return_train_score=True\n",
    "          )\n",
    "    clf.fit(x_train, y_train)\n",
    "\n",
    "    print('Training ended..')\n",
    "    end_time = time.time()\n",
    "\n",
    "    total_training_time = str(datetime.timedelta(seconds=end_time-start_time))\n",
    "    mean_train_score = np.mean(clf.cv_results_['mean_train_score'], axis=0)\n",
    "    mean_val_score = np.mean(clf.cv_results_['mean_test_score'], axis=0)\n",
    "\n",
    "    print('\\nResults:\\n')\n",
    "    print(f'Best params = {clf.best_params_}')\n",
    "    print(f'Best score = {clf.best_score_}')\n",
    "    print(f'Mean train score = {mean_train_score}')\n",
    "    print(f'Mean val  score = {mean_val_score}')\n",
    "    print(f'Total training time = {total_training_time}')"
   ]
  },
  {
   "cell_type": "code",
   "execution_count": 59,
   "metadata": {},
   "outputs": [
    {
     "name": "stdout",
     "output_type": "stream",
     "text": [
      "Training started..\n",
      "Training ended..\n",
      "\n",
      "Results:\n",
      "\n",
      "Best params = {'C': 1.0, 'penalty': 'l2'}\n",
      "Best score = 0.8863505747126437\n",
      "Mean train score = 0.8863194444444445\n",
      "Mean val  score = 0.8863122605363984\n",
      "Total training time = 0:00:02.256830\n"
     ]
    }
   ],
   "source": [
    "log_reg_hyptune(x_train, y_train)"
   ]
  },
  {
   "cell_type": "code",
   "execution_count": 60,
   "metadata": {},
   "outputs": [],
   "source": [
    "def train_evaluate_log_reg(x_train, y_train, x_test, y_test):\n",
    "    log_reg = LogisticRegression(C=1.0, penalty='l2')\n",
    "    log_reg.fit(x_train, y_train)\n",
    "    y_pred = log_reg.predict(x_test)\n",
    "\n",
    "    # Results.\n",
    "    cm = confusion_matrix(y_test, y_pred)\n",
    "    cm_df = pd.DataFrame(cm)\n",
    "    \n",
    "    classif_rep = classification_report(y_pred, y_test)\n",
    "    print('Classification report:\\n')\n",
    "    print(classif_rep)\n",
    "    print()\n",
    "    \n",
    "    sn.heatmap(cm_df, annot=True, cmap='Blues', fmt='g')\n",
    "    plt.title('Confusion Matrix (Test Data)') \n",
    "    plt.xlabel('Predicted') \n",
    "    plt.ylabel('True') \n",
    "    plt.show()"
   ]
  },
  {
   "cell_type": "code",
   "execution_count": 61,
   "metadata": {},
   "outputs": [
    {
     "name": "stdout",
     "output_type": "stream",
     "text": [
      "Classification report:\n",
      "\n",
      "              precision    recall  f1-score   support\n",
      "\n",
      "           0       0.90      0.98      0.94      4004\n",
      "           1       0.87      0.54      0.67       957\n",
      "\n",
      "    accuracy                           0.90      4961\n",
      "   macro avg       0.89      0.76      0.80      4961\n",
      "weighted avg       0.89      0.90      0.89      4961\n",
      "\n",
      "\n"
     ]
    },
    {
     "data": {
      "image/png": "[encoded data removed]",
      "text/plain": [
       "<Figure size 432x288 with 2 Axes>"
      ]
     },
     "metadata": {
      "needs_background": "light"
     },
     "output_type": "display_data"
    }
   ],
   "source": [
    "train_evaluate_log_reg(x_train, y_train, x_test, y_test)"
   ]
  },
  {
   "cell_type": "markdown",
   "metadata": {},
   "source": [
    "##### SVM"
   ]
  },
  {
   "cell_type": "code",
   "execution_count": 62,
   "metadata": {},
   "outputs": [],
   "source": [
    "def svm_hyptune(x_train, y_train):\n",
    "    params = {\n",
    "        'penalty': ['l2'],\n",
    "        'C': [1.0, 1.5, 2.5, 3.0, 5.0]\n",
    "    }\n",
    "\n",
    "    start_time = time.time()\n",
    "    print('Training started..')\n",
    "\n",
    "    clf = GridSearchCV(\n",
    "            estimator=LinearSVC(), \n",
    "            param_grid=params, \n",
    "            cv=5, \n",
    "            return_train_score=True\n",
    "          )\n",
    "    clf.fit(x_train, y_train)\n",
    "\n",
    "    print('Training ended..')\n",
    "    end_time = time.time()\n",
    "\n",
    "    total_training_time = str(datetime.timedelta(seconds=end_time-start_time))\n",
    "    mean_train_score = np.mean(clf.cv_results_['mean_train_score'], axis=0)\n",
    "    mean_val_score = np.mean(clf.cv_results_['mean_test_score'], axis=0)\n",
    "\n",
    "    print('\\nResults:\\n')\n",
    "    print(f'Best params = {clf.best_params_}')\n",
    "    print(f'Best score = {clf.best_score_}')\n",
    "    print(f'Mean train score = {mean_train_score}')\n",
    "    print(f'Mean val  score = {mean_val_score}')\n",
    "    print(f'Total training time = {total_training_time}')"
   ]
  },
  {
   "cell_type": "code",
   "execution_count": 63,
   "metadata": {},
   "outputs": [
    {
     "name": "stdout",
     "output_type": "stream",
     "text": [
      "Training started..\n",
      "Training ended..\n",
      "\n",
      "Results:\n",
      "\n",
      "Best params = {'C': 3.0, 'penalty': 'l2'}\n",
      "Best score = 0.8851724137931034\n",
      "Mean train score = 0.8844382183908046\n",
      "Mean val  score = 0.8842241379310346\n",
      "Total training time = 0:00:32.885269\n"
     ]
    }
   ],
   "source": [
    "svm_hyptune(x_train, y_train)"
   ]
  },
  {
   "cell_type": "code",
   "execution_count": 64,
   "metadata": {},
   "outputs": [],
   "source": [
    "def train_evaluate_svm(x_train, y_train, x_test, y_test):\n",
    "    svm = LinearSVC(C=3.0, penalty='l2')\n",
    "    svm.fit(x_train, y_train)\n",
    "    y_pred = svm.predict(x_test)\n",
    "\n",
    "    # Results.\n",
    "    cm = confusion_matrix(y_test, y_pred)\n",
    "    cm_df = pd.DataFrame(cm)\n",
    "    \n",
    "    classif_rep = classification_report(y_pred, y_test)\n",
    "    print('Classification report:\\n')\n",
    "    print(classif_rep)\n",
    "    print()\n",
    "    \n",
    "    sn.heatmap(cm_df, annot=True, cmap='Blues', fmt='g')\n",
    "    plt.title('Confusion Matrix (Test Data)') \n",
    "    plt.xlabel('Predicted') \n",
    "    plt.ylabel('True') \n",
    "    plt.show()"
   ]
  },
  {
   "cell_type": "code",
   "execution_count": 65,
   "metadata": {},
   "outputs": [
    {
     "name": "stdout",
     "output_type": "stream",
     "text": [
      "Classification report:\n",
      "\n",
      "              precision    recall  f1-score   support\n",
      "\n",
      "           0       0.89      0.98      0.93      3962\n",
      "           1       0.87      0.52      0.65       999\n",
      "\n",
      "    accuracy                           0.89      4961\n",
      "   macro avg       0.88      0.75      0.79      4961\n",
      "weighted avg       0.89      0.89      0.88      4961\n",
      "\n",
      "\n"
     ]
    },
    {
     "data": {
      "image/png": "[encoded data removed]",
      "text/plain": [
       "<Figure size 432x288 with 2 Axes>"
      ]
     },
     "metadata": {
      "needs_background": "light"
     },
     "output_type": "display_data"
    }
   ],
   "source": [
    "train_evaluate_svm(x_train, y_train, x_test, y_test)"
   ]
  },
  {
   "cell_type": "markdown",
   "metadata": {},
   "source": [
    "##### Decision Tree"
   ]
  },
  {
   "cell_type": "code",
   "execution_count": 66,
   "metadata": {},
   "outputs": [],
   "source": [
    "def dt_hyptune(x_train, y_train):\n",
    "    params = {\n",
    "        'criterion': ['gini', 'entropy'],\n",
    "        'max_depth': [100, 150, 200],\n",
    "\n",
    "    }\n",
    "\n",
    "    start_time = time.time()\n",
    "    print('Training started..')\n",
    "\n",
    "    clf = GridSearchCV(\n",
    "            estimator=DecisionTreeClassifier(), \n",
    "            param_grid=params, \n",
    "            cv=5, \n",
    "            return_train_score=True\n",
    "          )\n",
    "    clf.fit(x_train, y_train)\n",
    "\n",
    "    print('Training ended..')\n",
    "    end_time = time.time()\n",
    "\n",
    "    total_training_time = str(datetime.timedelta(seconds=end_time-start_time))\n",
    "    mean_train_score = np.mean(clf.cv_results_['mean_train_score'], axis=0)\n",
    "    mean_val_score = np.mean(clf.cv_results_['mean_test_score'], axis=0)\n",
    "\n",
    "    print('\\nResults:\\n')\n",
    "    print(f'Best params = {clf.best_params_}')\n",
    "    print(f'Best score = {clf.best_score_}')\n",
    "    print(f'Mean train score = {mean_train_score}')\n",
    "    print(f'Mean val  score = {mean_val_score}')\n",
    "    print(f'Total training time = {total_training_time}')"
   ]
  },
  {
   "cell_type": "code",
   "execution_count": 67,
   "metadata": {},
   "outputs": [
    {
     "name": "stdout",
     "output_type": "stream",
     "text": [
      "Training started..\n",
      "Training ended..\n",
      "\n",
      "Results:\n",
      "\n",
      "Best params = {'criterion': 'entropy', 'max_depth': 100}\n",
      "Best score = 0.9785057471264368\n",
      "Mean train score = 1.0\n",
      "Mean val  score = 0.9771503831417624\n",
      "Total training time = 0:00:04.496617\n"
     ]
    }
   ],
   "source": [
    "dt_hyptune(x_train, y_train)"
   ]
  },
  {
   "cell_type": "code",
   "execution_count": 68,
   "metadata": {},
   "outputs": [],
   "source": [
    "def train_evaluate_dt(x_train, y_train, x_test, y_test):\n",
    "    dt = DecisionTreeClassifier(criterion='entropy', max_depth=100)\n",
    "    dt.fit(x_train, y_train)\n",
    "    y_pred = dt.predict(x_test)\n",
    "\n",
    "    # Results.\n",
    "    cm = confusion_matrix(y_test, y_pred)\n",
    "    cm_df = pd.DataFrame(cm)\n",
    "    \n",
    "    classif_rep = classification_report(y_pred, y_test)\n",
    "    print('Classification report:\\n')\n",
    "    print(classif_rep)\n",
    "    print()\n",
    "    \n",
    "    sn.heatmap(cm_df, annot=True, cmap='Blues', fmt='g')\n",
    "    plt.title('Confusion Matrix (Test Data)') \n",
    "    plt.xlabel('Predicted') \n",
    "    plt.ylabel('True') \n",
    "    plt.show()"
   ]
  },
  {
   "cell_type": "code",
   "execution_count": 69,
   "metadata": {},
   "outputs": [
    {
     "name": "stdout",
     "output_type": "stream",
     "text": [
      "Classification report:\n",
      "\n",
      "              precision    recall  f1-score   support\n",
      "\n",
      "           0       0.98      0.99      0.98      4310\n",
      "           1       0.92      0.84      0.88       651\n",
      "\n",
      "    accuracy                           0.97      4961\n",
      "   macro avg       0.95      0.92      0.93      4961\n",
      "weighted avg       0.97      0.97      0.97      4961\n",
      "\n",
      "\n"
     ]
    },
    {
     "data": {
      "image/png": "[encoded data removed]",
      "text/plain": [
       "<Figure size 432x288 with 2 Axes>"
      ]
     },
     "metadata": {
      "needs_background": "light"
     },
     "output_type": "display_data"
    }
   ],
   "source": [
    "train_evaluate_dt(x_train, y_train, x_test, y_test)"
   ]
  },
  {
   "cell_type": "markdown",
   "metadata": {},
   "source": [
    "##### Random Forest"
   ]
  },
  {
   "cell_type": "code",
   "execution_count": 70,
   "metadata": {},
   "outputs": [],
   "source": [
    "def rf_hyptune(x_train, y_train):\n",
    "    params = {\n",
    "        'n_estimators': [10, 20, 30],\n",
    "        'criterion': ['gini', 'entropy'],\n",
    "        'max_depth': [50, 100],\n",
    "    }\n",
    "\n",
    "    start_time = time.time()\n",
    "    print('Training started..')\n",
    "\n",
    "    clf = GridSearchCV(\n",
    "            estimator=RandomForestClassifier(), \n",
    "            param_grid=params, \n",
    "            cv=5, \n",
    "            return_train_score=True\n",
    "          )\n",
    "    clf.fit(x_train, y_train)\n",
    "\n",
    "    print('Training ended..')\n",
    "    end_time = time.time()\n",
    "\n",
    "    total_training_time = str(datetime.timedelta(seconds=end_time-start_time))\n",
    "    mean_train_score = np.mean(clf.cv_results_['mean_train_score'], axis=0)\n",
    "    mean_val_score = np.mean(clf.cv_results_['mean_test_score'], axis=0)\n",
    "\n",
    "    print('\\nResults:\\n')\n",
    "    print(f'Best params = {clf.best_params_}')\n",
    "    print(f'Best score = {clf.best_score_}')\n",
    "    print(f'Mean train score = {mean_train_score}')\n",
    "    print(f'Mean val  score = {mean_val_score}')\n",
    "    print(f'Total training time = {total_training_time}')"
   ]
  },
  {
   "cell_type": "code",
   "execution_count": 71,
   "metadata": {},
   "outputs": [
    {
     "name": "stdout",
     "output_type": "stream",
     "text": [
      "Training started..\n",
      "Training ended..\n",
      "\n",
      "Results:\n",
      "\n",
      "Best params = {'criterion': 'entropy', 'max_depth': 50, 'n_estimators': 30}\n",
      "Best score = 0.9795114942528735\n",
      "Mean train score = 0.999254070881226\n",
      "Mean val  score = 0.978043582375479\n",
      "Total training time = 0:00:31.880639\n"
     ]
    }
   ],
   "source": [
    "rf_hyptune(x_train, y_train)"
   ]
  },
  {
   "cell_type": "code",
   "execution_count": 72,
   "metadata": {},
   "outputs": [],
   "source": [
    "def train_evaluate_rf(x_train, y_train, x_test, y_test):\n",
    "    rf = RandomForestClassifier(criterion='entropy', max_depth=50, n_estimators=30)\n",
    "    rf.fit(x_train, y_train)\n",
    "    y_pred = rf.predict(x_test)\n",
    "\n",
    "    # Results.\n",
    "    cm = confusion_matrix(y_test, y_pred)\n",
    "    cm_df = pd.DataFrame(cm)\n",
    "    \n",
    "    classif_rep = classification_report(y_pred, y_test)\n",
    "    print('Classification report:\\n')\n",
    "    print(classif_rep)\n",
    "    print()\n",
    "    \n",
    "    sn.heatmap(cm_df, annot=True, cmap='Blues', fmt='g')\n",
    "    plt.title('Confusion Matrix (Test Data)') \n",
    "    plt.xlabel('Predicted') \n",
    "    plt.ylabel('True') \n",
    "    plt.show()"
   ]
  },
  {
   "cell_type": "code",
   "execution_count": 73,
   "metadata": {},
   "outputs": [
    {
     "name": "stdout",
     "output_type": "stream",
     "text": [
      "Classification report:\n",
      "\n",
      "              precision    recall  f1-score   support\n",
      "\n",
      "           0       0.98      0.99      0.98      4324\n",
      "           1       0.90      0.85      0.87       637\n",
      "\n",
      "    accuracy                           0.97      4961\n",
      "   macro avg       0.94      0.92      0.93      4961\n",
      "weighted avg       0.97      0.97      0.97      4961\n",
      "\n",
      "\n"
     ]
    },
    {
     "data": {
      "image/png": "[encoded data removed]",
      "text/plain": [
       "<Figure size 432x288 with 2 Axes>"
      ]
     },
     "metadata": {
      "needs_background": "light"
     },
     "output_type": "display_data"
    }
   ],
   "source": [
    "train_evaluate_rf(x_train, y_train, x_test, y_test)"
   ]
  },
  {
   "cell_type": "markdown",
   "metadata": {},
   "source": [
    "#### SGD"
   ]
  },
  {
   "cell_type": "code",
   "execution_count": 74,
   "metadata": {},
   "outputs": [],
   "source": [
    "def sgd_hyptune(x_train, y_train):\n",
    "    params = {\n",
    "        'penalty': ['l1', 'l2'],\n",
    "        'alpha': [0.0001, 0.001, 0.01],\n",
    "        'learning_rate': ['constant', 'optimal', 'invscaling'],\n",
    "        'max_iter': [1000, 2000, 3000]\n",
    "    }\n",
    "\n",
    "    start_time = time.time()\n",
    "    print('Training started..')\n",
    "\n",
    "    clf = GridSearchCV(\n",
    "            estimator=SGDClassifier(), \n",
    "            param_grid=params, \n",
    "            cv=5, \n",
    "            return_train_score=True\n",
    "          )\n",
    "    clf.fit(x_train, y_train)\n",
    "\n",
    "    print('Training ended..')\n",
    "    end_time = time.time()\n",
    "\n",
    "    total_training_time = str(datetime.timedelta(seconds=end_time-start_time))\n",
    "    mean_train_score = np.nanmean(clf.cv_results_['mean_train_score'], axis=0)\n",
    "    mean_val_score = np.nanmean(clf.cv_results_['mean_test_score'], axis=0)\n",
    "    \n",
    "    print('\\nResults:\\n')\n",
    "    print(f'Best params = {clf.best_params_}')\n",
    "    print(f'Best score = {clf.best_score_}')\n",
    "    print(f'Mean train score = {mean_train_score}')\n",
    "    print(f'Mean val  score = {mean_val_score}')\n",
    "    print(f'Total training time = {total_training_time}')"
   ]
  },
  {
   "cell_type": "code",
   "execution_count": 75,
   "metadata": {},
   "outputs": [
    {
     "name": "stdout",
     "output_type": "stream",
     "text": [
      "Training started..\n",
      "Training ended..\n",
      "\n",
      "Results:\n",
      "\n",
      "Best params = {'alpha': 0.001, 'learning_rate': 'optimal', 'max_iter': 1000, 'penalty': 'l1'}\n",
      "Best score = 0.8926149425287356\n",
      "Mean train score = 0.888176883780332\n",
      "Mean val  score = 0.8879214559386973\n",
      "Total training time = 0:00:03.177487\n"
     ]
    }
   ],
   "source": [
    "sgd_hyptune(x_train, y_train)"
   ]
  },
  {
   "cell_type": "code",
   "execution_count": 76,
   "metadata": {},
   "outputs": [],
   "source": [
    "def train_evaluate_sgd(x_train, y_train, x_test, y_test):\n",
    "    sgd = SGDClassifier(alpha=0.001, learning_rate='optimal', penalty='l1', max_iter=1000)\n",
    "    sgd.fit(x_train, y_train)\n",
    "    y_pred = sgd.predict(x_test)\n",
    "\n",
    "    # Results.\n",
    "    cm = confusion_matrix(y_test, y_pred)\n",
    "    cm_df = pd.DataFrame(cm)\n",
    "    \n",
    "    classif_rep = classification_report(y_pred, y_test)\n",
    "    print('Classification report:\\n')\n",
    "    print(classif_rep)\n",
    "    print()\n",
    "    \n",
    "    sn.heatmap(cm_df, annot=True, cmap='Blues', fmt='g')\n",
    "    plt.title('Confusion Matrix (Test Data)') \n",
    "    plt.xlabel('Predicted') \n",
    "    plt.ylabel('True') \n",
    "    plt.show()"
   ]
  },
  {
   "cell_type": "code",
   "execution_count": 77,
   "metadata": {},
   "outputs": [
    {
     "name": "stdout",
     "output_type": "stream",
     "text": [
      "Classification report:\n",
      "\n",
      "              precision    recall  f1-score   support\n",
      "\n",
      "           0       0.89      0.98      0.94      3970\n",
      "           1       0.89      0.53      0.67       991\n",
      "\n",
      "    accuracy                           0.89      4961\n",
      "   macro avg       0.89      0.76      0.80      4961\n",
      "weighted avg       0.89      0.89      0.88      4961\n",
      "\n",
      "\n"
     ]
    },
    {
     "data": {
      "image/png": "[encoded data removed]",
      "text/plain": [
       "<Figure size 432x288 with 2 Axes>"
      ]
     },
     "metadata": {
      "needs_background": "light"
     },
     "output_type": "display_data"
    }
   ],
   "source": [
    "train_evaluate_sgd(x_train, y_train, x_test, y_test)"
   ]
  },
  {
   "cell_type": "markdown",
   "metadata": {},
   "source": [
    "### Oversampled results summary of core classifiers\n",
    "Here, recall & f1 are of label 1 only. Accuracy represents the overall models performance."
   ]
  },
  {
   "cell_type": "markdown",
   "metadata": {},
   "source": [
    "| Classifier                  \t| Recall \t| F1   \t| Accuracy \t|\n",
    "|-----------------------------\t|--------\t|------\t|----------\t|\n",
    "| Logistic Regression         \t| 0.54   \t| 0.67 \t| 0.90     \t|\n",
    "| SVM                         \t| 0.52   \t| 0.65 \t| 0.89     \t|\n",
    "| Decision Tree               \t| 0.84   \t| 0.88 \t| 0.97     \t|\n",
    "| Random Forest               \t| 0.85   \t| 0.87 \t| 0.97     \t|\n",
    "| Stochastic Gradient Descent \t| 0.53   \t| 0.67 \t| 0.89     \t|"
   ]
  },
  {
   "cell_type": "markdown",
   "metadata": {},
   "source": [
    "### Core ensemble methods"
   ]
  },
  {
   "cell_type": "code",
   "execution_count": 29,
   "metadata": {},
   "outputs": [],
   "source": [
    "def generate_results(y_test, y_pred):\n",
    "    \"\"\"\n",
    "    Generate Confusion Matrix and Classification Report for\n",
    "    a given pair of y_pred and y_test values\n",
    "    \"\"\"\n",
    "    cm = confusion_matrix(y_test, y_pred)\n",
    "    cm_df = pd.DataFrame(cm)\n",
    "    \n",
    "    report = classification_report(y_pred, y_test)\n",
    "    print(f\"Classification Report: \\n{report}\\n\")\n",
    "    \n",
    "    sn.heatmap(cm_df, annot=True, cmap=\"Blues\", fmt=\"g\")\n",
    "    plt.title(\"Confustion Matrix (Test Data)\")\n",
    "    plt.xlabel(\"Predicted\")\n",
    "    plt.ylabel(\"True\")\n",
    "    plt.show()"
   ]
  },
  {
   "cell_type": "markdown",
   "metadata": {},
   "source": [
    "##### Voting classifier"
   ]
  },
  {
   "cell_type": "code",
   "execution_count": 88,
   "metadata": {},
   "outputs": [],
   "source": [
    "def train_evaluate_voting(x_train, y_train, x_test, y_test):\n",
    "    rf_clf = RandomForestClassifier(criterion=\"entropy\", max_depth=50, n_estimators=30)\n",
    "    lr_clf = LogisticRegression(C=1.0, penalty='l2')\n",
    "    dt_clf = DecisionTreeClassifier(criterion='entropy', max_depth=100)\n",
    "    \n",
    "    ensemble = [\n",
    "        (\"rf\", rf_clf),\n",
    "        (\"lr\", lr_clf),\n",
    "        (\"dt\", dt_clf)\n",
    "    ]\n",
    "\n",
    "    voting_clf = VotingClassifier(estimators=ensemble)\n",
    "    voting_clf.fit(x_train, y_train)\n",
    "    y_pred = voting_clf.predict(x_test)\n",
    "    \n",
    "    # Results\n",
    "    generate_results(y_test, y_pred)"
   ]
  },
  {
   "cell_type": "code",
   "execution_count": 89,
   "metadata": {},
   "outputs": [
    {
     "name": "stdout",
     "output_type": "stream",
     "text": [
      "Classification Report: \n",
      "              precision    recall  f1-score   support\n",
      "\n",
      "           0       0.98      0.99      0.98      4313\n",
      "           1       0.92      0.85      0.88       648\n",
      "\n",
      "    accuracy                           0.97      4961\n",
      "   macro avg       0.95      0.92      0.93      4961\n",
      "weighted avg       0.97      0.97      0.97      4961\n",
      "\n",
      "\n"
     ]
    },
    {
     "data": {
      "image/png": "[encoded data removed]",
      "text/plain": [
       "<Figure size 432x288 with 2 Axes>"
      ]
     },
     "metadata": {
      "needs_background": "light"
     },
     "output_type": "display_data"
    }
   ],
   "source": [
    "train_evaluate_voting(x_train, y_train, x_test, y_test)"
   ]
  },
  {
   "cell_type": "markdown",
   "metadata": {},
   "source": [
    "##### Adaboost classifier"
   ]
  },
  {
   "cell_type": "code",
   "execution_count": 84,
   "metadata": {},
   "outputs": [],
   "source": [
    "def train_evaluate_adaboost(x_train, y_train, x_test, y_test):\n",
    "    rf_clf = RandomForestClassifier(criterion=\"entropy\", max_depth=50, n_estimators=30)\n",
    "    adaboost_clf = AdaBoostClassifier(base_estimator=rf_clf)\n",
    "    \n",
    "    adaboost_clf.fit(x_train, y_train)\n",
    "    y_pred = adaboost_clf.predict(x_test)\n",
    "        \n",
    "    generate_results(y_test, y_pred)"
   ]
  },
  {
   "cell_type": "code",
   "execution_count": 85,
   "metadata": {},
   "outputs": [
    {
     "name": "stdout",
     "output_type": "stream",
     "text": [
      "Classification Report: \n",
      "              precision    recall  f1-score   support\n",
      "\n",
      "           0       0.98      0.99      0.98      4331\n",
      "           1       0.89      0.85      0.87       630\n",
      "\n",
      "    accuracy                           0.97      4961\n",
      "   macro avg       0.94      0.92      0.93      4961\n",
      "weighted avg       0.97      0.97      0.97      4961\n",
      "\n",
      "\n"
     ]
    },
    {
     "data": {
      "image/png": "[encoded data removed]",
      "text/plain": [
       "<Figure size 432x288 with 2 Axes>"
      ]
     },
     "metadata": {
      "needs_background": "light"
     },
     "output_type": "display_data"
    }
   ],
   "source": [
    "train_evaluate_adaboost(x_train, y_train, x_test, y_test)"
   ]
  },
  {
   "cell_type": "markdown",
   "metadata": {},
   "source": [
    "##### Bagging classifier"
   ]
  },
  {
   "cell_type": "code",
   "execution_count": 86,
   "metadata": {},
   "outputs": [],
   "source": [
    "def train_evaluate_bagging(x_train, y_train, x_test, y_test):\n",
    "    rf_clf = RandomForestClassifier(criterion=\"entropy\", max_depth=50, n_estimators=30)\n",
    "    bagging_clf = BaggingClassifier(base_estimator=rf_clf)\n",
    "    \n",
    "    bagging_clf.fit(x_train, y_train)\n",
    "    y_pred = bagging_clf.predict(x_test)\n",
    "    \n",
    "    generate_results(y_test, y_pred)"
   ]
  },
  {
   "cell_type": "code",
   "execution_count": 87,
   "metadata": {},
   "outputs": [
    {
     "name": "stdout",
     "output_type": "stream",
     "text": [
      "Classification Report: \n",
      "              precision    recall  f1-score   support\n",
      "\n",
      "           0       0.98      0.99      0.98      4313\n",
      "           1       0.92      0.84      0.88       648\n",
      "\n",
      "    accuracy                           0.97      4961\n",
      "   macro avg       0.95      0.92      0.93      4961\n",
      "weighted avg       0.97      0.97      0.97      4961\n",
      "\n",
      "\n"
     ]
    },
    {
     "data": {
      "image/png": "[encoded data removed]",
      "text/plain": [
       "<Figure size 432x288 with 2 Axes>"
      ]
     },
     "metadata": {
      "needs_background": "light"
     },
     "output_type": "display_data"
    }
   ],
   "source": [
    "train_evaluate_bagging(x_train, y_train, x_test, y_test)"
   ]
  },
  {
   "cell_type": "markdown",
   "metadata": {},
   "source": [
    "### Oversampled results summary of core ensemble methods\n",
    "Here, recall & f1 are of label 1 only. Accuracy represents the overall models performance."
   ]
  },
  {
   "cell_type": "markdown",
   "metadata": {},
   "source": [
    "| Classifier          \t| Recall \t| F1   \t| Accuracy \t|\n",
    "|---------------------\t|--------\t|------\t|----------\t|\n",
    "| Voting Classifier   \t| 0.85   \t| 0.88 \t| 0.97     \t|\n",
    "| Adaboost Classifier \t| 0.85   \t| 0.87 \t| 0.97     \t|\n",
    "| Bagging Classifier  \t| 0.84   \t| 0.88 \t| 0.97    \t|"
   ]
  },
  {
   "cell_type": "markdown",
   "metadata": {},
   "source": []
  }
 ],
 "metadata": {
  "kernelspec": {
   "display_name": "Python 3.8.4 ('venv': venv)",
   "language": "python",
   "name": "python3"
  },
  "language_info": {
   "codemirror_mode": {
    "name": "ipython",
    "version": 3
   },
   "file_extension": ".py",
   "mimetype": "text/x-python",
   "name": "python",
   "nbconvert_exporter": "python",
   "pygments_lexer": "ipython3",
   "version": "3.8.4"
  },
  "orig_nbformat": 4,
  "vscode": {
   "interpreter": {
    "hash": "faafacdf547457256517978ccd617e5232c831db2db3475f4239736a0901b48f"
   }
  }
 },
 "nbformat": 4,
 "nbformat_minor": 2
}
