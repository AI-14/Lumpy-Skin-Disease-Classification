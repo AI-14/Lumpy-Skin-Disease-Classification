{
 "cells": [
  {
   "cell_type": "markdown",
   "metadata": {},
   "source": [
    "# Introduction\n",
    "In this notebook, we will apply undersampling technique and use the classification strategies we used in the notebook *Classification on imbalanced dataset.ipynb*"
   ]
  },
  {
   "cell_type": "markdown",
   "metadata": {},
   "source": [
    "### Imports"
   ]
  },
  {
   "cell_type": "code",
   "execution_count": 1,
   "metadata": {},
   "outputs": [],
   "source": [
    "import pandas as pd\n",
    "import numpy as np\n",
    "import time\n",
    "import datetime\n",
    "import seaborn as sn\n",
    "import matplotlib.pyplot as plt\n",
    "from imblearn.under_sampling import RandomUnderSampler\n",
    "\n",
    "from sklearn.preprocessing import StandardScaler\n",
    "from sklearn.model_selection import train_test_split, GridSearchCV\n",
    "from sklearn.linear_model import LogisticRegression, SGDClassifier\n",
    "from sklearn.svm import LinearSVC\n",
    "from sklearn.tree import DecisionTreeClassifier\n",
    "from sklearn.ensemble import RandomForestClassifier, AdaBoostClassifier, VotingClassifier, BaggingClassifier\n",
    "from sklearn.metrics import confusion_matrix, classification_report\n",
    "\n",
    "# Sometimes sklearn gives ConvergenceWarnings. So we ignore those.\n",
    "from warnings import filterwarnings\n",
    "filterwarnings('ignore')"
   ]
  },
  {
   "cell_type": "markdown",
   "metadata": {},
   "source": [
    "### Preparing and undersampling features"
   ]
  },
  {
   "cell_type": "code",
   "execution_count": 5,
   "metadata": {},
   "outputs": [],
   "source": [
    "# Reading the dataset.\n",
    "df = pd.read_csv('LSD_data.csv', sep=',')\n",
    "\n",
    "# Getting features and labels.\n",
    "X = df[['x', 'y', 'cld', 'dtr', 'frs', 'pet', 'pre', 'tmn', 'tmp', 'tmx', 'vap', 'wet', 'elevation', 'dominant_land_cover']].values\n",
    "y = df['lumpy'].values"
   ]
  },
  {
   "cell_type": "markdown",
   "metadata": {},
   "source": [
    "### Splitting into train and test sets"
   ]
  },
  {
   "cell_type": "code",
   "execution_count": 6,
   "metadata": {},
   "outputs": [
    {
     "name": "stdout",
     "output_type": "stream",
     "text": [
      "Before undersampling, X_train: (19842, 14)\n",
      "Before undersampling, y_train: (19842,)\n",
      "After undersampling, x_train: (4760, 14)\n",
      "After undersampling, y_train: (4760,)\n",
      "x_train shape = (4760, 14) | y_train shape = (4760,)\n",
      "x_test shape  = (4961, 14)  | y_test shape = (4961,)\n"
     ]
    }
   ],
   "source": [
    "# Splitting into train-test in the ratio of 80-20.\n",
    "x_train, x_test, y_train, y_test = train_test_split(X, y, test_size=0.2, shuffle=True)\n",
    "\n",
    "print(f\"Before undersampling, X_train: {x_train.shape}\")\n",
    "print(f\"Before undersampling, y_train: {y_train.shape}\")\n",
    "# Undersampling data\n",
    "undersampler = RandomUnderSampler(random_state=1)\n",
    "x_train, y_train = undersampler.fit_resample(x_train, y_train)\n",
    "print(f\"After undersampling, x_train: {x_train.shape}\")\n",
    "print(f\"After undersampling, y_train: {y_train.shape}\")\n",
    "\n",
    "# Scaling the features.\n",
    "scaler = StandardScaler()\n",
    "scaler.fit(x_train)\n",
    "x_train = scaler.transform(x_train)\n",
    "x_test = scaler.transform(x_test)\n",
    "\n",
    "print(f'x_train shape = {x_train.shape} | y_train shape = {y_train.shape}')\n",
    "print(f'x_test shape  = {x_test.shape}  | y_test shape = {y_test.shape}')"
   ]
  },
  {
   "cell_type": "markdown",
   "metadata": {},
   "source": [
    "### Core classifiers"
   ]
  },
  {
   "cell_type": "markdown",
   "metadata": {},
   "source": [
    "##### Logistic Regression"
   ]
  },
  {
   "cell_type": "code",
   "execution_count": 7,
   "metadata": {},
   "outputs": [],
   "source": [
    "def log_reg_hyptune(x_train, y_train):\n",
    "    params = {\n",
    "        'penalty': ['l2'],\n",
    "        'C': [1.0, 1.5, 2.5, 3.0, 5.0, 10.0],\n",
    "    }\n",
    "\n",
    "    start_time = time.time()\n",
    "    print('Training started..')\n",
    "\n",
    "    clf = GridSearchCV(\n",
    "            estimator=LogisticRegression(), \n",
    "            param_grid=params, \n",
    "            cv=5, \n",
    "            return_train_score=True\n",
    "          )\n",
    "    clf.fit(x_train, y_train)\n",
    "\n",
    "    print('Training ended..')\n",
    "    end_time = time.time()\n",
    "\n",
    "    total_training_time = str(datetime.timedelta(seconds=end_time-start_time))\n",
    "    mean_train_score = np.mean(clf.cv_results_['mean_train_score'], axis=0)\n",
    "    mean_val_score = np.mean(clf.cv_results_['mean_test_score'], axis=0)\n",
    "\n",
    "    print('\\nResults:\\n')\n",
    "    print(f'Best params = {clf.best_params_}')\n",
    "    print(f'Best score = {clf.best_score_}')\n",
    "    print(f'Mean train score = {mean_train_score}')\n",
    "    print(f'Mean val  score = {mean_val_score}')\n",
    "    print(f'Total training time = {total_training_time}')"
   ]
  },
  {
   "cell_type": "code",
   "execution_count": 8,
   "metadata": {},
   "outputs": [
    {
     "name": "stdout",
     "output_type": "stream",
     "text": [
      "Training started..\n",
      "Training ended..\n",
      "\n",
      "Results:\n",
      "\n",
      "Best params = {'C': 1.5, 'penalty': 'l2'}\n",
      "Best score = 0.8831932773109245\n",
      "Mean train score = 0.8828256302521007\n",
      "Mean val  score = 0.8829831932773109\n",
      "Total training time = 0:00:00.990300\n"
     ]
    }
   ],
   "source": [
    "log_reg_hyptune(x_train, y_train)"
   ]
  },
  {
   "cell_type": "code",
   "execution_count": 9,
   "metadata": {},
   "outputs": [],
   "source": [
    "def train_evaluate_log_reg(x_train, y_train, x_test, y_test):\n",
    "    log_reg = LogisticRegression(C=1.5, penalty='l2')\n",
    "    log_reg.fit(x_train, y_train)\n",
    "    y_pred = log_reg.predict(x_test)\n",
    "\n",
    "    # Results.\n",
    "    cm = confusion_matrix(y_test, y_pred)\n",
    "    cm_df = pd.DataFrame(cm)\n",
    "    \n",
    "    classif_rep = classification_report(y_pred, y_test)\n",
    "    print('Classification report:\\n')\n",
    "    print(classif_rep)\n",
    "    print()\n",
    "    \n",
    "    sn.heatmap(cm_df, annot=True, cmap='Blues', fmt='g')\n",
    "    plt.title('Confusion Matrix (Test Data)') \n",
    "    plt.xlabel('Predicted') \n",
    "    plt.ylabel('True') \n",
    "    plt.show()"
   ]
  },
  {
   "cell_type": "code",
   "execution_count": 10,
   "metadata": {},
   "outputs": [
    {
     "name": "stdout",
     "output_type": "stream",
     "text": [
      "Classification report:\n",
      "\n",
      "              precision    recall  f1-score   support\n",
      "\n",
      "           0       0.87      0.98      0.92      3829\n",
      "           1       0.89      0.52      0.65      1132\n",
      "\n",
      "    accuracy                           0.87      4961\n",
      "   macro avg       0.88      0.75      0.79      4961\n",
      "weighted avg       0.88      0.87      0.86      4961\n",
      "\n",
      "\n"
     ]
    },
    {
     "data": {
      "image/png": "[encoded data removed]",
      "text/plain": [
       "<Figure size 432x288 with 2 Axes>"
      ]
     },
     "metadata": {
      "needs_background": "light"
     },
     "output_type": "display_data"
    }
   ],
   "source": [
    "train_evaluate_log_reg(x_train, y_train, x_test, y_test)"
   ]
  },
  {
   "cell_type": "markdown",
   "metadata": {},
   "source": [
    "##### SVM"
   ]
  },
  {
   "cell_type": "code",
   "execution_count": 11,
   "metadata": {},
   "outputs": [],
   "source": [
    "def svm_hyptune(x_train, y_train):\n",
    "    params = {\n",
    "        'penalty': ['l2'],\n",
    "        'C': [1.0, 1.5, 2.5, 3.0, 5.0]\n",
    "    }\n",
    "\n",
    "    start_time = time.time()\n",
    "    print('Training started..')\n",
    "\n",
    "    clf = GridSearchCV(\n",
    "            estimator=LinearSVC(), \n",
    "            param_grid=params, \n",
    "            cv=5, \n",
    "            return_train_score=True\n",
    "          )\n",
    "    clf.fit(x_train, y_train)\n",
    "\n",
    "    print('Training ended..')\n",
    "    end_time = time.time()\n",
    "\n",
    "    total_training_time = str(datetime.timedelta(seconds=end_time-start_time))\n",
    "    mean_train_score = np.mean(clf.cv_results_['mean_train_score'], axis=0)\n",
    "    mean_val_score = np.mean(clf.cv_results_['mean_test_score'], axis=0)\n",
    "\n",
    "    print('\\nResults:\\n')\n",
    "    print(f'Best params = {clf.best_params_}')\n",
    "    print(f'Best score = {clf.best_score_}')\n",
    "    print(f'Mean train score = {mean_train_score}')\n",
    "    print(f'Mean val  score = {mean_val_score}')\n",
    "    print(f'Total training time = {total_training_time}')"
   ]
  },
  {
   "cell_type": "code",
   "execution_count": 12,
   "metadata": {},
   "outputs": [
    {
     "name": "stdout",
     "output_type": "stream",
     "text": [
      "Training started..\n",
      "Training ended..\n",
      "\n",
      "Results:\n",
      "\n",
      "Best params = {'C': 3.0, 'penalty': 'l2'}\n",
      "Best score = 0.8783613445378151\n",
      "Mean train score = 0.8790756302521008\n",
      "Mean val  score = 0.8774789915966388\n",
      "Total training time = 0:00:02.553754\n"
     ]
    }
   ],
   "source": [
    "svm_hyptune(x_train, y_train)"
   ]
  },
  {
   "cell_type": "code",
   "execution_count": 13,
   "metadata": {},
   "outputs": [],
   "source": [
    "def train_evaluate_svm(x_train, y_train, x_test, y_test):\n",
    "    svm = LinearSVC(C=3.0, penalty='l2')\n",
    "    svm.fit(x_train, y_train)\n",
    "    y_pred = svm.predict(x_test)\n",
    "\n",
    "    # Results.\n",
    "    cm = confusion_matrix(y_test, y_pred)\n",
    "    cm_df = pd.DataFrame(cm)\n",
    "    \n",
    "    classif_rep = classification_report(y_pred, y_test)\n",
    "    print('Classification report:\\n')\n",
    "    print(classif_rep)\n",
    "    print()\n",
    "    \n",
    "    sn.heatmap(cm_df, annot=True, cmap='Blues', fmt='g')\n",
    "    plt.title('Confusion Matrix (Test Data)') \n",
    "    plt.xlabel('Predicted') \n",
    "    plt.ylabel('True') \n",
    "    plt.show()"
   ]
  },
  {
   "cell_type": "code",
   "execution_count": 14,
   "metadata": {},
   "outputs": [
    {
     "name": "stdout",
     "output_type": "stream",
     "text": [
      "Classification report:\n",
      "\n",
      "              precision    recall  f1-score   support\n",
      "\n",
      "           0       0.87      0.98      0.92      3795\n",
      "           1       0.89      0.50      0.64      1166\n",
      "\n",
      "    accuracy                           0.87      4961\n",
      "   macro avg       0.88      0.74      0.78      4961\n",
      "weighted avg       0.87      0.87      0.85      4961\n",
      "\n",
      "\n"
     ]
    },
    {
     "data": {
      "image/png": "[encoded data removed]",
      "text/plain": [
       "<Figure size 432x288 with 2 Axes>"
      ]
     },
     "metadata": {
      "needs_background": "light"
     },
     "output_type": "display_data"
    }
   ],
   "source": [
    "train_evaluate_svm(x_train, y_train, x_test, y_test)"
   ]
  },
  {
   "cell_type": "markdown",
   "metadata": {},
   "source": [
    "##### Decision Tree"
   ]
  },
  {
   "cell_type": "code",
   "execution_count": 15,
   "metadata": {},
   "outputs": [],
   "source": [
    "def dt_hyptune(x_train, y_train):\n",
    "    params = {\n",
    "        'criterion': ['gini', 'entropy'],\n",
    "        'max_depth': [100, 150, 200],\n",
    "\n",
    "    }\n",
    "\n",
    "    start_time = time.time()\n",
    "    print('Training started..')\n",
    "\n",
    "    clf = GridSearchCV(\n",
    "            estimator=DecisionTreeClassifier(), \n",
    "            param_grid=params, \n",
    "            cv=5, \n",
    "            return_train_score=True\n",
    "          )\n",
    "    clf.fit(x_train, y_train)\n",
    "\n",
    "    print('Training ended..')\n",
    "    end_time = time.time()\n",
    "\n",
    "    total_training_time = str(datetime.timedelta(seconds=end_time-start_time))\n",
    "    mean_train_score = np.mean(clf.cv_results_['mean_train_score'], axis=0)\n",
    "    mean_val_score = np.mean(clf.cv_results_['mean_test_score'], axis=0)\n",
    "\n",
    "    print('\\nResults:\\n')\n",
    "    print(f'Best params = {clf.best_params_}')\n",
    "    print(f'Best score = {clf.best_score_}')\n",
    "    print(f'Mean train score = {mean_train_score}')\n",
    "    print(f'Mean val  score = {mean_val_score}')\n",
    "    print(f'Total training time = {total_training_time}')"
   ]
  },
  {
   "cell_type": "code",
   "execution_count": 16,
   "metadata": {},
   "outputs": [
    {
     "name": "stdout",
     "output_type": "stream",
     "text": [
      "Training started..\n",
      "Training ended..\n",
      "\n",
      "Results:\n",
      "\n",
      "Best params = {'criterion': 'entropy', 'max_depth': 150}\n",
      "Best score = 0.9439075630252102\n",
      "Mean train score = 1.0\n",
      "Mean val  score = 0.9401260504201682\n",
      "Total training time = 0:00:00.688324\n"
     ]
    }
   ],
   "source": [
    "dt_hyptune(x_train, y_train)"
   ]
  },
  {
   "cell_type": "code",
   "execution_count": 17,
   "metadata": {},
   "outputs": [],
   "source": [
    "def train_evaluate_dt(x_train, y_train, x_test, y_test):\n",
    "    dt = DecisionTreeClassifier(criterion='entropy', max_depth=150)\n",
    "    dt.fit(x_train, y_train)\n",
    "    y_pred = dt.predict(x_test)\n",
    "\n",
    "    # Results.\n",
    "    cm = confusion_matrix(y_test, y_pred)\n",
    "    cm_df = pd.DataFrame(cm)\n",
    "    \n",
    "    classif_rep = classification_report(y_pred, y_test)\n",
    "    print('Classification report:\\n')\n",
    "    print(classif_rep)\n",
    "    print()\n",
    "    \n",
    "    sn.heatmap(cm_df, annot=True, cmap='Blues', fmt='g')\n",
    "    plt.title('Confusion Matrix (Test Data)') \n",
    "    plt.xlabel('Predicted') \n",
    "    plt.ylabel('True') \n",
    "    plt.show()"
   ]
  },
  {
   "cell_type": "code",
   "execution_count": 18,
   "metadata": {},
   "outputs": [
    {
     "name": "stdout",
     "output_type": "stream",
     "text": [
      "Classification report:\n",
      "\n",
      "              precision    recall  f1-score   support\n",
      "\n",
      "           0       0.93      0.99      0.96      4046\n",
      "           1       0.95      0.69      0.80       915\n",
      "\n",
      "    accuracy                           0.94      4961\n",
      "   macro avg       0.94      0.84      0.88      4961\n",
      "weighted avg       0.94      0.94      0.93      4961\n",
      "\n",
      "\n"
     ]
    },
    {
     "data": {
      "image/png": "[encoded data removed]",
      "text/plain": [
       "<Figure size 432x288 with 2 Axes>"
      ]
     },
     "metadata": {
      "needs_background": "light"
     },
     "output_type": "display_data"
    }
   ],
   "source": [
    "train_evaluate_dt(x_train, y_train, x_test, y_test)"
   ]
  },
  {
   "cell_type": "markdown",
   "metadata": {},
   "source": [
    "##### Random Forest"
   ]
  },
  {
   "cell_type": "code",
   "execution_count": 21,
   "metadata": {},
   "outputs": [],
   "source": [
    "def rf_hyptune(x_train, y_train):\n",
    "    params = {\n",
    "        'n_estimators': [10, 20, 30],\n",
    "        'criterion': ['gini', 'entropy'],\n",
    "        'max_depth': [50, 100],\n",
    "    }\n",
    "\n",
    "    start_time = time.time()\n",
    "    print('Training started..')\n",
    "\n",
    "    clf = GridSearchCV(\n",
    "            estimator=RandomForestClassifier(), \n",
    "            param_grid=params, \n",
    "            cv=5, \n",
    "            return_train_score=True\n",
    "          )\n",
    "    clf.fit(x_train, y_train)\n",
    "\n",
    "    print('Training ended..')\n",
    "    end_time = time.time()\n",
    "\n",
    "    total_training_time = str(datetime.timedelta(seconds=end_time-start_time))\n",
    "    mean_train_score = np.mean(clf.cv_results_['mean_train_score'], axis=0)\n",
    "    mean_val_score = np.mean(clf.cv_results_['mean_test_score'], axis=0)\n",
    "\n",
    "    print('\\nResults:\\n')\n",
    "    print(f'Best params = {clf.best_params_}')\n",
    "    print(f'Best score = {clf.best_score_}')\n",
    "    print(f'Mean train score = {mean_train_score}')\n",
    "    print(f'Mean val  score = {mean_val_score}')\n",
    "    print(f'Total training time = {total_training_time}')"
   ]
  },
  {
   "cell_type": "code",
   "execution_count": 22,
   "metadata": {},
   "outputs": [
    {
     "name": "stdout",
     "output_type": "stream",
     "text": [
      "Training started..\n",
      "Training ended..\n",
      "\n",
      "Results:\n",
      "\n",
      "Best params = {'criterion': 'gini', 'max_depth': 100, 'n_estimators': 30}\n",
      "Best score = 0.957563025210084\n",
      "Mean train score = 0.9980392156862745\n",
      "Mean val  score = 0.9544467787114845\n",
      "Total training time = 0:00:05.505907\n"
     ]
    }
   ],
   "source": [
    "rf_hyptune(x_train, y_train)"
   ]
  },
  {
   "cell_type": "code",
   "execution_count": 23,
   "metadata": {},
   "outputs": [],
   "source": [
    "def train_evaluate_rf(x_train, y_train, x_test, y_test):\n",
    "    rf = RandomForestClassifier(criterion='gini', max_depth=100, n_estimators=30)\n",
    "    rf.fit(x_train, y_train)\n",
    "    y_pred = rf.predict(x_test)\n",
    "\n",
    "    # Results.\n",
    "    cm = confusion_matrix(y_test, y_pred)\n",
    "    cm_df = pd.DataFrame(cm)\n",
    "    \n",
    "    classif_rep = classification_report(y_pred, y_test)\n",
    "    print('Classification report:\\n')\n",
    "    print(classif_rep)\n",
    "    print()\n",
    "    \n",
    "    sn.heatmap(cm_df, annot=True, cmap='Blues', fmt='g')\n",
    "    plt.title('Confusion Matrix (Test Data)') \n",
    "    plt.xlabel('Predicted') \n",
    "    plt.ylabel('True') \n",
    "    plt.show()"
   ]
  },
  {
   "cell_type": "code",
   "execution_count": 24,
   "metadata": {},
   "outputs": [
    {
     "name": "stdout",
     "output_type": "stream",
     "text": [
      "Classification report:\n",
      "\n",
      "              precision    recall  f1-score   support\n",
      "\n",
      "           0       0.95      0.99      0.97      4102\n",
      "           1       0.96      0.73      0.83       859\n",
      "\n",
      "    accuracy                           0.95      4961\n",
      "   macro avg       0.95      0.86      0.90      4961\n",
      "weighted avg       0.95      0.95      0.95      4961\n",
      "\n",
      "\n"
     ]
    },
    {
     "data": {
      "image/png": "[encoded data removed]",
      "text/plain": [
       "<Figure size 432x288 with 2 Axes>"
      ]
     },
     "metadata": {
      "needs_background": "light"
     },
     "output_type": "display_data"
    }
   ],
   "source": [
    "train_evaluate_rf(x_train, y_train, x_test, y_test)"
   ]
  },
  {
   "cell_type": "markdown",
   "metadata": {},
   "source": [
    "#### SGD"
   ]
  },
  {
   "cell_type": "code",
   "execution_count": 25,
   "metadata": {},
   "outputs": [],
   "source": [
    "def sgd_hyptune(x_train, y_train):\n",
    "    params = {\n",
    "        'penalty': ['l1', 'l2'],\n",
    "        'alpha': [0.0001, 0.001, 0.01],\n",
    "        'learning_rate': ['constant', 'optimal', 'invscaling'],\n",
    "        'max_iter': [1000, 2000, 3000]\n",
    "    }\n",
    "\n",
    "    start_time = time.time()\n",
    "    print('Training started..')\n",
    "\n",
    "    clf = GridSearchCV(\n",
    "            estimator=SGDClassifier(), \n",
    "            param_grid=params, \n",
    "            cv=5, \n",
    "            return_train_score=True\n",
    "          )\n",
    "    clf.fit(x_train, y_train)\n",
    "\n",
    "    print('Training ended..')\n",
    "    end_time = time.time()\n",
    "\n",
    "    total_training_time = str(datetime.timedelta(seconds=end_time-start_time))\n",
    "    mean_train_score = np.nanmean(clf.cv_results_['mean_train_score'], axis=0)\n",
    "    mean_val_score = np.nanmean(clf.cv_results_['mean_test_score'], axis=0)\n",
    "    \n",
    "    print('\\nResults:\\n')\n",
    "    print(f'Best params = {clf.best_params_}')\n",
    "    print(f'Best score = {clf.best_score_}')\n",
    "    print(f'Mean train score = {mean_train_score}')\n",
    "    print(f'Mean val  score = {mean_val_score}')\n",
    "    print(f'Total training time = {total_training_time}')"
   ]
  },
  {
   "cell_type": "code",
   "execution_count": 26,
   "metadata": {},
   "outputs": [
    {
     "name": "stdout",
     "output_type": "stream",
     "text": [
      "Training started..\n",
      "Training ended..\n",
      "\n",
      "Results:\n",
      "\n",
      "Best params = {'alpha': 0.001, 'learning_rate': 'optimal', 'max_iter': 3000, 'penalty': 'l1'}\n",
      "Best score = 0.8911764705882353\n",
      "Mean train score = 0.8845646591970122\n",
      "Mean val  score = 0.8834500466853409\n",
      "Total training time = 0:00:01.115307\n"
     ]
    }
   ],
   "source": [
    "sgd_hyptune(x_train, y_train)"
   ]
  },
  {
   "cell_type": "code",
   "execution_count": 27,
   "metadata": {},
   "outputs": [],
   "source": [
    "def train_evaluate_sgd(x_train, y_train, x_test, y_test):\n",
    "    sgd = SGDClassifier(alpha=0.001, learning_rate='optimal', penalty='l1', max_iter=3000)\n",
    "    sgd.fit(x_train, y_train)\n",
    "    y_pred = sgd.predict(x_test)\n",
    "\n",
    "    # Results.\n",
    "    cm = confusion_matrix(y_test, y_pred)\n",
    "    cm_df = pd.DataFrame(cm)\n",
    "    \n",
    "    classif_rep = classification_report(y_pred, y_test)\n",
    "    print('Classification report:\\n')\n",
    "    print(classif_rep)\n",
    "    print()\n",
    "    \n",
    "    sn.heatmap(cm_df, annot=True, cmap='Blues', fmt='g')\n",
    "    plt.title('Confusion Matrix (Test Data)') \n",
    "    plt.xlabel('Predicted') \n",
    "    plt.ylabel('True') \n",
    "    plt.show()"
   ]
  },
  {
   "cell_type": "code",
   "execution_count": 28,
   "metadata": {},
   "outputs": [
    {
     "name": "stdout",
     "output_type": "stream",
     "text": [
      "Classification report:\n",
      "\n",
      "              precision    recall  f1-score   support\n",
      "\n",
      "           0       0.88      0.98      0.93      3845\n",
      "           1       0.90      0.53      0.67      1116\n",
      "\n",
      "    accuracy                           0.88      4961\n",
      "   macro avg       0.89      0.76      0.80      4961\n",
      "weighted avg       0.88      0.88      0.87      4961\n",
      "\n",
      "\n"
     ]
    },
    {
     "data": {
      "image/png": "[encoded data removed]",
      "text/plain": [
       "<Figure size 432x288 with 2 Axes>"
      ]
     },
     "metadata": {
      "needs_background": "light"
     },
     "output_type": "display_data"
    }
   ],
   "source": [
    "train_evaluate_sgd(x_train, y_train, x_test, y_test)"
   ]
  },
  {
   "cell_type": "markdown",
   "metadata": {},
   "source": [
    "### Undersampled results summary of core classifiers\n",
    "Here, recall & f1 are of label 1 only. Accuracy represents the overall models performance."
   ]
  },
  {
   "cell_type": "markdown",
   "metadata": {},
   "source": [
    "| Classifier                  \t| Recall \t| F1   \t| Accuracy \t|\n",
    "|-----------------------------\t|--------\t|------\t|----------\t|\n",
    "| Logistic Regression         \t| 0.52  \t| 0.65 \t| 0.87     \t|\n",
    "| SVM                         \t| 0.50   \t| 0.64 \t| 0.87     \t|\n",
    "| Decision Trees              \t| 0.69   \t| 0.80 \t| 0.94     \t|\n",
    "| Random Forest               \t| 0.73   \t| 0.83 \t| 0.95     \t|\n",
    "| Stochastic Gradient Descent \t| 0.53   \t| 0.67 \t| 0.88     \t|"
   ]
  },
  {
   "cell_type": "markdown",
   "metadata": {},
   "source": [
    "### Core ensemble methods"
   ]
  },
  {
   "cell_type": "code",
   "execution_count": 29,
   "metadata": {},
   "outputs": [],
   "source": [
    "def generate_results(y_test, y_pred):\n",
    "    \"\"\"\n",
    "    Generate Confusion Matrix and Classification Report for\n",
    "    a given pair of y_pred and y_test values\n",
    "    \"\"\"\n",
    "    cm = confusion_matrix(y_test, y_pred)\n",
    "    cm_df = pd.DataFrame(cm)\n",
    "    \n",
    "    report = classification_report(y_pred, y_test)\n",
    "    print(f\"Classification Report: \\n{report}\\n\")\n",
    "    \n",
    "    sn.heatmap(cm_df, annot=True, cmap=\"Blues\", fmt=\"g\")\n",
    "    plt.title(\"Confustion Matrix (Test Data)\")\n",
    "    plt.xlabel(\"Predicted\")\n",
    "    plt.ylabel(\"True\")\n",
    "    plt.show()"
   ]
  },
  {
   "cell_type": "markdown",
   "metadata": {},
   "source": [
    "##### Voting classifier"
   ]
  },
  {
   "cell_type": "code",
   "execution_count": 30,
   "metadata": {},
   "outputs": [],
   "source": [
    "def train_evaluate_voting(x_train, y_train, x_test, y_test):\n",
    "    sgd_clf = SGDClassifier(alpha=0.001, learning_rate='optimal', penalty='l1', max_iter=3000)\n",
    "    dt_clf = DecisionTreeClassifier(criterion='entropy', max_depth=150)\n",
    "    rf_clf = RandomForestClassifier(criterion='gini', max_depth=100, n_estimators=30)\n",
    "    \n",
    "    ensemble = [\n",
    "        ('sgd_clf', sgd_clf),\n",
    "        ('dt', dt_clf),\n",
    "        (\"rf\", rf_clf),\n",
    "    ]\n",
    "\n",
    "    voting_clf = VotingClassifier(estimators=ensemble)\n",
    "    voting_clf.fit(x_train, y_train)\n",
    "    y_pred = voting_clf.predict(x_test)\n",
    "    \n",
    "    # Results\n",
    "    generate_results(y_test, y_pred)"
   ]
  },
  {
   "cell_type": "code",
   "execution_count": 31,
   "metadata": {},
   "outputs": [
    {
     "name": "stdout",
     "output_type": "stream",
     "text": [
      "Classification Report: \n",
      "              precision    recall  f1-score   support\n",
      "\n",
      "           0       0.94      0.99      0.97      4093\n",
      "           1       0.96      0.73      0.83       868\n",
      "\n",
      "    accuracy                           0.95      4961\n",
      "   macro avg       0.95      0.86      0.90      4961\n",
      "weighted avg       0.95      0.95      0.94      4961\n",
      "\n",
      "\n"
     ]
    },
    {
     "data": {
      "image/png": "[encoded data removed]",
      "text/plain": [
       "<Figure size 432x288 with 2 Axes>"
      ]
     },
     "metadata": {
      "needs_background": "light"
     },
     "output_type": "display_data"
    }
   ],
   "source": [
    "train_evaluate_voting(x_train, y_train, x_test, y_test)"
   ]
  },
  {
   "cell_type": "markdown",
   "metadata": {},
   "source": [
    "##### Adaboost classifier"
   ]
  },
  {
   "cell_type": "code",
   "execution_count": 32,
   "metadata": {},
   "outputs": [],
   "source": [
    "def train_evaluate_adaboost(x_train, y_train, x_test, y_test):\n",
    "    rf_clf = RandomForestClassifier(criterion='gini', max_depth=100, n_estimators=30)\n",
    "    adaboost_clf = AdaBoostClassifier(base_estimator=rf_clf)\n",
    "    \n",
    "    adaboost_clf.fit(x_train, y_train)\n",
    "    y_pred = adaboost_clf.predict(x_test)\n",
    "        \n",
    "    generate_results(y_test, y_pred)"
   ]
  },
  {
   "cell_type": "code",
   "execution_count": 33,
   "metadata": {},
   "outputs": [
    {
     "name": "stdout",
     "output_type": "stream",
     "text": [
      "Classification Report: \n",
      "              precision    recall  f1-score   support\n",
      "\n",
      "           0       0.95      0.99      0.97      4113\n",
      "           1       0.96      0.75      0.84       848\n",
      "\n",
      "    accuracy                           0.95      4961\n",
      "   macro avg       0.96      0.87      0.91      4961\n",
      "weighted avg       0.95      0.95      0.95      4961\n",
      "\n",
      "\n"
     ]
    },
    {
     "data": {
      "image/png": "[encoded data removed]",
      "text/plain": [
       "<Figure size 432x288 with 2 Axes>"
      ]
     },
     "metadata": {
      "needs_background": "light"
     },
     "output_type": "display_data"
    }
   ],
   "source": [
    "train_evaluate_adaboost(x_train, y_train, x_test, y_test)"
   ]
  },
  {
   "cell_type": "markdown",
   "metadata": {},
   "source": [
    "##### Bagging classifier"
   ]
  },
  {
   "cell_type": "code",
   "execution_count": 34,
   "metadata": {},
   "outputs": [],
   "source": [
    "def train_evaluate_bagging(x_train, y_train, x_test, y_test):\n",
    "    rf_clf = RandomForestClassifier(criterion='gini', max_depth=100, n_estimators=30)\n",
    "    bagging_clf = BaggingClassifier(base_estimator=rf_clf)\n",
    "    \n",
    "    bagging_clf.fit(x_train, y_train)\n",
    "    y_pred = bagging_clf.predict(x_test)\n",
    "    \n",
    "    generate_results(y_test, y_pred)"
   ]
  },
  {
   "cell_type": "code",
   "execution_count": 35,
   "metadata": {},
   "outputs": [
    {
     "name": "stdout",
     "output_type": "stream",
     "text": [
      "Classification Report: \n",
      "              precision    recall  f1-score   support\n",
      "\n",
      "           0       0.94      0.99      0.97      4063\n",
      "           1       0.97      0.71      0.82       898\n",
      "\n",
      "    accuracy                           0.94      4961\n",
      "   macro avg       0.95      0.85      0.89      4961\n",
      "weighted avg       0.94      0.94      0.94      4961\n",
      "\n",
      "\n"
     ]
    },
    {
     "data": {
      "image/png": "[encoded data removed]",
      "text/plain": [
       "<Figure size 432x288 with 2 Axes>"
      ]
     },
     "metadata": {
      "needs_background": "light"
     },
     "output_type": "display_data"
    }
   ],
   "source": [
    "train_evaluate_bagging(x_train, y_train, x_test, y_test)"
   ]
  },
  {
   "cell_type": "markdown",
   "metadata": {},
   "source": [
    "### Undersampled results summary of core ensemble methods\n",
    "Here, recall & f1 are of label 1 only. Accuracy represents the overall models performance."
   ]
  },
  {
   "cell_type": "markdown",
   "metadata": {},
   "source": [
    "| Classifier          \t| Recall \t| F1   \t| Accuracy \t|\n",
    "|---------------------\t|--------\t|------\t|----------\t|\n",
    "| Voting Classifier   \t| 0.73   \t| 0.83 \t| 0.95     \t|\n",
    "| Adaboost Classifier \t| 0.75   \t| 0.84 \t| 0.95     \t|\n",
    "| Bagging Classifier  \t| 0.71   \t| 0.81 \t| 0.94     \t|"
   ]
  }
 ],
 "metadata": {
  "interpreter": {
   "hash": "32097e69bc79c595731a7497feac30fb46b046080f88a2597586ab8db5f4f542"
  },
  "kernelspec": {
   "display_name": "Python 3.8.4 64-bit ('venv': venv)",
   "language": "python",
   "name": "python3"
  },
  "language_info": {
   "codemirror_mode": {
    "name": "ipython",
    "version": 3
   },
   "file_extension": ".py",
   "mimetype": "text/x-python",
   "name": "python",
   "nbconvert_exporter": "python",
   "pygments_lexer": "ipython3",
   "version": "3.8.4"
  },
  "orig_nbformat": 4
 },
 "nbformat": 4,
 "nbformat_minor": 2
}
