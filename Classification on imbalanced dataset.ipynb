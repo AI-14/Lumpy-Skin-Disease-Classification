{
 "cells": [
  {
   "cell_type": "markdown",
   "metadata": {},
   "source": [
    "# Introduction\n",
    "In this notebook, we will build classifiers on the whole imbalanced dataset without applying any over/under sampling technique.\n",
    "\n",
    "The core classifiers we will use are:\n",
    "- Logistic Regression\n",
    "- LinearSVC or Support Vector Machine\n",
    "- Decision Tree\n",
    "- Random Forest\n",
    "- SGD\n",
    "\n",
    "To supplement the classifiers above, we will carry out core ensemble methods:\n",
    "- Voting Classifier (between best 3 models from the above list)\n",
    "- Adaboost (on the best classifier from the above list)\n",
    "- Bagging Classifer (on the best classifier from the above list)\n",
    "\n",
    "Once we have their performance measure - particularly recall, presision, and f1-score, we will save the best model\n",
    "as a pickle file."
   ]
  },
  {
   "cell_type": "markdown",
   "metadata": {},
   "source": [
    "### Imports"
   ]
  },
  {
   "cell_type": "code",
   "execution_count": 1,
   "metadata": {},
   "outputs": [],
   "source": [
    "import pandas as pd\n",
    "import numpy as np\n",
    "import time\n",
    "import datetime\n",
    "import seaborn as sn\n",
    "import matplotlib.pyplot as plt\n",
    "\n",
    "from sklearn.preprocessing import StandardScaler\n",
    "from sklearn.model_selection import train_test_split, GridSearchCV\n",
    "from sklearn.linear_model import LogisticRegression, SGDClassifier\n",
    "from sklearn.svm import LinearSVC\n",
    "from sklearn.tree import DecisionTreeClassifier\n",
    "from sklearn.ensemble import RandomForestClassifier, AdaBoostClassifier, VotingClassifier, BaggingClassifier\n",
    "from sklearn.metrics import confusion_matrix, classification_report\n",
    "\n",
    "# Sometimes sklearn gives ConvergenceWarnings. So we ignore those.\n",
    "from warnings import filterwarnings\n",
    "filterwarnings('ignore')"
   ]
  },
  {
   "cell_type": "markdown",
   "metadata": {},
   "source": [
    "### Data preparation and splitting into train-test"
   ]
  },
  {
   "cell_type": "code",
   "execution_count": 2,
   "metadata": {},
   "outputs": [
    {
     "name": "stdout",
     "output_type": "stream",
     "text": [
      "x_train shape = (19842, 14) | y_train shape = (19842,)\n",
      "x_test shape  = (4961, 14)  | y_test shape = (4961,)\n"
     ]
    }
   ],
   "source": [
    "# Reading the dataset.\n",
    "df = pd.read_csv('LSD_data.csv', sep=',')\n",
    "\n",
    "# Getting features and labels.\n",
    "X = df[['x', 'y', 'cld', 'dtr', 'frs', 'pet', 'pre', 'tmn', 'tmp', 'tmx', 'vap', 'wet', 'elevation', 'dominant_land_cover']].values\n",
    "y = df['lumpy'].values\n",
    "\n",
    "# Splitting into train-test in the ratio of 80-20.\n",
    "x_train, x_test, y_train, y_test = train_test_split(X, y, test_size=0.2, shuffle=True)\n",
    "\n",
    "# Scaling the features.\n",
    "scaler = StandardScaler()\n",
    "scaler.fit(x_train) \n",
    "x_train = scaler.transform(x_train)\n",
    "x_test = scaler.transform(x_test)\n",
    "\n",
    "print(f'x_train shape = {x_train.shape} | y_train shape = {y_train.shape}')\n",
    "print(f'x_test shape  = {x_test.shape}  | y_test shape = {y_test.shape}')"
   ]
  },
  {
   "cell_type": "markdown",
   "metadata": {},
   "source": [
    "### Core classifiers"
   ]
  },
  {
   "cell_type": "markdown",
   "metadata": {},
   "source": [
    "##### Logistic Regression"
   ]
  },
  {
   "cell_type": "code",
   "execution_count": 3,
   "metadata": {},
   "outputs": [],
   "source": [
    "def log_reg_hyptune(x_train, y_train):\n",
    "    params = {\n",
    "        'penalty': ['l2'],\n",
    "        'C': [1.0, 1.5, 2.5, 3.0, 5.0, 10.0],\n",
    "    }\n",
    "\n",
    "    start_time = time.time()\n",
    "    print('Training started..')\n",
    "\n",
    "    clf = GridSearchCV(\n",
    "            estimator=LogisticRegression(), \n",
    "            param_grid=params, \n",
    "            cv=5, \n",
    "            return_train_score=True\n",
    "          )\n",
    "    clf.fit(x_train, y_train)\n",
    "\n",
    "    print('Training ended..')\n",
    "    end_time = time.time()\n",
    "\n",
    "    total_training_time = str(datetime.timedelta(seconds=end_time-start_time))\n",
    "    mean_train_score = np.mean(clf.cv_results_['mean_train_score'], axis=0)\n",
    "    mean_val_score = np.mean(clf.cv_results_['mean_test_score'], axis=0)\n",
    "\n",
    "    print('\\nResults:\\n')\n",
    "    print(f'Best params = {clf.best_params_}')\n",
    "    print(f'Best score = {clf.best_score_}')\n",
    "    print(f'Mean train score = {mean_train_score}')\n",
    "    print(f'Mean val  score = {mean_val_score}')\n",
    "    print(f'Total training time = {total_training_time}')"
   ]
  },
  {
   "cell_type": "code",
   "execution_count": 4,
   "metadata": {},
   "outputs": [
    {
     "name": "stdout",
     "output_type": "stream",
     "text": [
      "Training started..\n",
      "Training ended..\n",
      "\n",
      "Results:\n",
      "\n",
      "Best params = {'C': 1.0, 'penalty': 'l2'}\n",
      "Best score = 0.9449146205674623\n",
      "Mean train score = 0.9452214044755306\n",
      "Mean val  score = 0.9448894126049464\n",
      "Total training time = 0:00:02.325105\n"
     ]
    }
   ],
   "source": [
    "log_reg_hyptune(x_train, y_train)"
   ]
  },
  {
   "cell_type": "code",
   "execution_count": 5,
   "metadata": {},
   "outputs": [],
   "source": [
    "def train_evaluate_log_reg(x_train, y_train, x_test, y_test):\n",
    "    log_reg = LogisticRegression(C=1.0, penalty='l2')\n",
    "    log_reg.fit(x_train, y_train)\n",
    "    y_pred = log_reg.predict(x_test)\n",
    "\n",
    "    # Results.\n",
    "    cm = confusion_matrix(y_test, y_pred)\n",
    "    cm_df = pd.DataFrame(cm)\n",
    "    \n",
    "    classif_rep = classification_report(y_pred, y_test)\n",
    "    print('Classification report:\\n')\n",
    "    print(classif_rep)\n",
    "    print()\n",
    "    \n",
    "    sn.heatmap(cm_df, annot=True, cmap='Blues', fmt='g')\n",
    "    plt.title('Confusion Matrix (Test Data)') \n",
    "    plt.xlabel('Predicted') \n",
    "    plt.ylabel('True') \n",
    "    plt.show()"
   ]
  },
  {
   "cell_type": "code",
   "execution_count": 6,
   "metadata": {},
   "outputs": [
    {
     "name": "stdout",
     "output_type": "stream",
     "text": [
      "Classification report:\n",
      "\n",
      "              precision    recall  f1-score   support\n",
      "\n",
      "           0       0.97      0.97      0.97      4412\n",
      "           1       0.75      0.79      0.77       549\n",
      "\n",
      "    accuracy                           0.95      4961\n",
      "   macro avg       0.86      0.88      0.87      4961\n",
      "weighted avg       0.95      0.95      0.95      4961\n",
      "\n",
      "\n"
     ]
    },
    {
     "data": {
      "image/png": "[encoded data removed]",
      "text/plain": [
       "<Figure size 432x288 with 2 Axes>"
      ]
     },
     "metadata": {
      "needs_background": "light"
     },
     "output_type": "display_data"
    }
   ],
   "source": [
    "train_evaluate_log_reg(x_train, y_train, x_test, y_test)"
   ]
  },
  {
   "cell_type": "markdown",
   "metadata": {},
   "source": [
    "##### SVM"
   ]
  },
  {
   "cell_type": "code",
   "execution_count": 9,
   "metadata": {},
   "outputs": [],
   "source": [
    "def svm_hyptune(x_train, y_train):\n",
    "    params = {\n",
    "        'penalty': ['l2'],\n",
    "        'C': [1.0, 1.5, 2.5, 3.0, 5.0]\n",
    "    }\n",
    "\n",
    "    start_time = time.time()\n",
    "    print('Training started..')\n",
    "\n",
    "    clf = GridSearchCV(\n",
    "            estimator=LinearSVC(), \n",
    "            param_grid=params, \n",
    "            cv=5, \n",
    "            return_train_score=True\n",
    "          )\n",
    "    clf.fit(x_train, y_train)\n",
    "\n",
    "    print('Training ended..')\n",
    "    end_time = time.time()\n",
    "\n",
    "    total_training_time = str(datetime.timedelta(seconds=end_time-start_time))\n",
    "    mean_train_score = np.mean(clf.cv_results_['mean_train_score'], axis=0)\n",
    "    mean_val_score = np.mean(clf.cv_results_['mean_test_score'], axis=0)\n",
    "\n",
    "    print('\\nResults:\\n')\n",
    "    print(f'Best params = {clf.best_params_}')\n",
    "    print(f'Best score = {clf.best_score_}')\n",
    "    print(f'Mean train score = {mean_train_score}')\n",
    "    print(f'Mean val  score = {mean_val_score}')\n",
    "    print(f'Total training time = {total_training_time}')"
   ]
  },
  {
   "cell_type": "code",
   "execution_count": 10,
   "metadata": {},
   "outputs": [
    {
     "name": "stdout",
     "output_type": "stream",
     "text": [
      "Training started..\n",
      "Training ended..\n",
      "\n",
      "Results:\n",
      "\n",
      "Best params = {'C': 3.0, 'penalty': 'l2'}\n",
      "Best score = 0.9451161953730118\n",
      "Mean train score = 0.9446678847737182\n",
      "Mean val  score = 0.944672672384366\n",
      "Total training time = 0:00:12.074932\n"
     ]
    }
   ],
   "source": [
    "svm_hyptune(x_train, y_train)"
   ]
  },
  {
   "cell_type": "code",
   "execution_count": 11,
   "metadata": {},
   "outputs": [],
   "source": [
    "def train_evaluate_svm(x_train, y_train, x_test, y_test):\n",
    "    svm = LinearSVC(C=3.0, penalty='l2')\n",
    "    svm.fit(x_train, y_train)\n",
    "    y_pred = svm.predict(x_test)\n",
    "\n",
    "    # Results.\n",
    "    cm = confusion_matrix(y_test, y_pred)\n",
    "    cm_df = pd.DataFrame(cm)\n",
    "    \n",
    "    classif_rep = classification_report(y_pred, y_test)\n",
    "    print('Classification report:\\n')\n",
    "    print(classif_rep)\n",
    "    print()\n",
    "    \n",
    "    sn.heatmap(cm_df, annot=True, cmap='Blues', fmt='g')\n",
    "    plt.title('Confusion Matrix (Test Data)') \n",
    "    plt.xlabel('Predicted') \n",
    "    plt.ylabel('True') \n",
    "    plt.show()"
   ]
  },
  {
   "cell_type": "code",
   "execution_count": 12,
   "metadata": {},
   "outputs": [
    {
     "name": "stdout",
     "output_type": "stream",
     "text": [
      "Classification report:\n",
      "\n",
      "              precision    recall  f1-score   support\n",
      "\n",
      "           0       0.98      0.97      0.97      4421\n",
      "           1       0.75      0.80      0.77       540\n",
      "\n",
      "    accuracy                           0.95      4961\n",
      "   macro avg       0.86      0.88      0.87      4961\n",
      "weighted avg       0.95      0.95      0.95      4961\n",
      "\n",
      "\n"
     ]
    },
    {
     "data": {
      "image/png": "[encoded data removed]",
      "text/plain": [
       "<Figure size 432x288 with 2 Axes>"
      ]
     },
     "metadata": {
      "needs_background": "light"
     },
     "output_type": "display_data"
    }
   ],
   "source": [
    "train_evaluate_svm(x_train, y_train, x_test, y_test)"
   ]
  },
  {
   "cell_type": "markdown",
   "metadata": {},
   "source": [
    "##### Decision Tree"
   ]
  },
  {
   "cell_type": "code",
   "execution_count": 13,
   "metadata": {},
   "outputs": [],
   "source": [
    "def dt_hyptune(x_train, y_train):\n",
    "    params = {\n",
    "        'criterion': ['gini', 'entropy'],\n",
    "        'max_depth': [100, 150, 200],\n",
    "\n",
    "    }\n",
    "\n",
    "    start_time = time.time()\n",
    "    print('Training started..')\n",
    "\n",
    "    clf = GridSearchCV(\n",
    "            estimator=DecisionTreeClassifier(), \n",
    "            param_grid=params, \n",
    "            cv=5, \n",
    "            return_train_score=True\n",
    "          )\n",
    "    clf.fit(x_train, y_train)\n",
    "\n",
    "    print('Training ended..')\n",
    "    end_time = time.time()\n",
    "\n",
    "    total_training_time = str(datetime.timedelta(seconds=end_time-start_time))\n",
    "    mean_train_score = np.mean(clf.cv_results_['mean_train_score'], axis=0)\n",
    "    mean_val_score = np.mean(clf.cv_results_['mean_test_score'], axis=0)\n",
    "\n",
    "    print('\\nResults:\\n')\n",
    "    print(f'Best params = {clf.best_params_}')\n",
    "    print(f'Best score = {clf.best_score_}')\n",
    "    print(f'Mean train score = {mean_train_score}')\n",
    "    print(f'Mean val  score = {mean_val_score}')\n",
    "    print(f'Total training time = {total_training_time}')"
   ]
  },
  {
   "cell_type": "code",
   "execution_count": 14,
   "metadata": {},
   "outputs": [
    {
     "name": "stdout",
     "output_type": "stream",
     "text": [
      "Training started..\n",
      "Training ended..\n",
      "\n",
      "Results:\n",
      "\n",
      "Best params = {'criterion': 'entropy', 'max_depth': 100}\n",
      "Best score = 0.9724824674493453\n",
      "Mean train score = 1.0\n",
      "Mean val  score = 0.9711805153413416\n",
      "Total training time = 0:00:02.598222\n"
     ]
    }
   ],
   "source": [
    "dt_hyptune(x_train, y_train)"
   ]
  },
  {
   "cell_type": "code",
   "execution_count": 15,
   "metadata": {},
   "outputs": [],
   "source": [
    "def train_evaluate_dt(x_train, y_train, x_test, y_test):\n",
    "    dt = DecisionTreeClassifier(criterion='entropy', max_depth=100)\n",
    "    dt.fit(x_train, y_train)\n",
    "    y_pred = dt.predict(x_test)\n",
    "\n",
    "    # Results.\n",
    "    cm = confusion_matrix(y_test, y_pred)\n",
    "    cm_df = pd.DataFrame(cm)\n",
    "    \n",
    "    classif_rep = classification_report(y_pred, y_test)\n",
    "    print('Classification report:\\n')\n",
    "    print(classif_rep)\n",
    "    print()\n",
    "    \n",
    "    sn.heatmap(cm_df, annot=True, cmap='Blues', fmt='g')\n",
    "    plt.title('Confusion Matrix (Test Data)') \n",
    "    plt.xlabel('Predicted') \n",
    "    plt.ylabel('True') \n",
    "    plt.show()"
   ]
  },
  {
   "cell_type": "code",
   "execution_count": 16,
   "metadata": {},
   "outputs": [
    {
     "name": "stdout",
     "output_type": "stream",
     "text": [
      "Classification report:\n",
      "\n",
      "              precision    recall  f1-score   support\n",
      "\n",
      "           0       0.99      0.99      0.99      4375\n",
      "           1       0.92      0.90      0.91       586\n",
      "\n",
      "    accuracy                           0.98      4961\n",
      "   macro avg       0.95      0.94      0.95      4961\n",
      "weighted avg       0.98      0.98      0.98      4961\n",
      "\n",
      "\n"
     ]
    },
    {
     "data": {
      "image/png": "[encoded data removed]",
      "text/plain": [
       "<Figure size 432x288 with 2 Axes>"
      ]
     },
     "metadata": {
      "needs_background": "light"
     },
     "output_type": "display_data"
    }
   ],
   "source": [
    "train_evaluate_dt(x_train, y_train, x_test, y_test)"
   ]
  },
  {
   "cell_type": "markdown",
   "metadata": {},
   "source": [
    "##### Random Forest"
   ]
  },
  {
   "cell_type": "code",
   "execution_count": 17,
   "metadata": {},
   "outputs": [],
   "source": [
    "def rf_hyptune(x_train, y_train):\n",
    "    params = {\n",
    "        'n_estimators': [10, 20, 30],\n",
    "        'criterion': ['gini', 'entropy'],\n",
    "        'max_depth': [50, 100],\n",
    "    }\n",
    "\n",
    "    start_time = time.time()\n",
    "    print('Training started..')\n",
    "\n",
    "    clf = GridSearchCV(\n",
    "            estimator=RandomForestClassifier(), \n",
    "            param_grid=params, \n",
    "            cv=5, \n",
    "            return_train_score=True\n",
    "          )\n",
    "    clf.fit(x_train, y_train)\n",
    "\n",
    "    print('Training ended..')\n",
    "    end_time = time.time()\n",
    "\n",
    "    total_training_time = str(datetime.timedelta(seconds=end_time-start_time))\n",
    "    mean_train_score = np.mean(clf.cv_results_['mean_train_score'], axis=0)\n",
    "    mean_val_score = np.mean(clf.cv_results_['mean_test_score'], axis=0)\n",
    "\n",
    "    print('\\nResults:\\n')\n",
    "    print(f'Best params = {clf.best_params_}')\n",
    "    print(f'Best score = {clf.best_score_}')\n",
    "    print(f'Mean train score = {mean_train_score}')\n",
    "    print(f'Mean val  score = {mean_val_score}')\n",
    "    print(f'Total training time = {total_training_time}')"
   ]
  },
  {
   "cell_type": "code",
   "execution_count": 18,
   "metadata": {},
   "outputs": [
    {
     "name": "stdout",
     "output_type": "stream",
     "text": [
      "Training started..\n",
      "Training ended..\n",
      "\n",
      "Results:\n",
      "\n",
      "Best params = {'criterion': 'gini', 'max_depth': 100, 'n_estimators': 30}\n",
      "Best score = 0.971877717634246\n",
      "Mean train score = 0.998442908172655\n",
      "Mean val  score = 0.9712939352986316\n",
      "Total training time = 0:00:17.763736\n"
     ]
    }
   ],
   "source": [
    "rf_hyptune(x_train, y_train)"
   ]
  },
  {
   "cell_type": "code",
   "execution_count": 19,
   "metadata": {},
   "outputs": [],
   "source": [
    "def train_evaluate_rf(x_train, y_train, x_test, y_test):\n",
    "    rf = RandomForestClassifier(criterion='gini', max_depth=100, n_estimators=30)\n",
    "    rf.fit(x_train, y_train)\n",
    "    y_pred = rf.predict(x_test)\n",
    "\n",
    "    # Results.\n",
    "    cm = confusion_matrix(y_test, y_pred)\n",
    "    cm_df = pd.DataFrame(cm)\n",
    "    \n",
    "    classif_rep = classification_report(y_pred, y_test)\n",
    "    print('Classification report:\\n')\n",
    "    print(classif_rep)\n",
    "    print()\n",
    "    \n",
    "    sn.heatmap(cm_df, annot=True, cmap='Blues', fmt='g')\n",
    "    plt.title('Confusion Matrix (Test Data)') \n",
    "    plt.xlabel('Predicted') \n",
    "    plt.ylabel('True') \n",
    "    plt.show()"
   ]
  },
  {
   "cell_type": "code",
   "execution_count": 20,
   "metadata": {},
   "outputs": [
    {
     "name": "stdout",
     "output_type": "stream",
     "text": [
      "Classification report:\n",
      "\n",
      "              precision    recall  f1-score   support\n",
      "\n",
      "           0       0.98      0.99      0.98      4370\n",
      "           1       0.90      0.87      0.89       591\n",
      "\n",
      "    accuracy                           0.97      4961\n",
      "   macro avg       0.94      0.93      0.94      4961\n",
      "weighted avg       0.97      0.97      0.97      4961\n",
      "\n",
      "\n"
     ]
    },
    {
     "data": {
      "image/png": "[encoded data removed]",
      "text/plain": [
       "<Figure size 432x288 with 2 Axes>"
      ]
     },
     "metadata": {
      "needs_background": "light"
     },
     "output_type": "display_data"
    }
   ],
   "source": [
    "train_evaluate_rf(x_train, y_train, x_test, y_test)"
   ]
  },
  {
   "cell_type": "markdown",
   "metadata": {},
   "source": [
    "#### SGD"
   ]
  },
  {
   "cell_type": "code",
   "execution_count": 21,
   "metadata": {},
   "outputs": [],
   "source": [
    "def sgd_hyptune(x_train, y_train):\n",
    "    params = {\n",
    "        'penalty': ['l1', 'l2'],\n",
    "        'alpha': [0.0001, 0.001, 0.01],\n",
    "        'learning_rate': ['constant', 'optimal', 'invscaling'],\n",
    "        'max_iter': [1000, 2000, 3000]\n",
    "    }\n",
    "\n",
    "    start_time = time.time()\n",
    "    print('Training started..')\n",
    "\n",
    "    clf = GridSearchCV(\n",
    "            estimator=SGDClassifier(), \n",
    "            param_grid=params, \n",
    "            cv=5, \n",
    "            return_train_score=True\n",
    "          )\n",
    "    clf.fit(x_train, y_train)\n",
    "\n",
    "    print('Training ended..')\n",
    "    end_time = time.time()\n",
    "\n",
    "    total_training_time = str(datetime.timedelta(seconds=end_time-start_time))\n",
    "    mean_train_score = np.nanmean(clf.cv_results_['mean_train_score'], axis=0)\n",
    "    mean_val_score = np.nanmean(clf.cv_results_['mean_test_score'], axis=0)\n",
    "    \n",
    "    print('\\nResults:\\n')\n",
    "    print(f'Best params = {clf.best_params_}')\n",
    "    print(f'Best score = {clf.best_score_}')\n",
    "    print(f'Mean train score = {mean_train_score}')\n",
    "    print(f'Mean val  score = {mean_val_score}')\n",
    "    print(f'Total training time = {total_training_time}')"
   ]
  },
  {
   "cell_type": "code",
   "execution_count": 22,
   "metadata": {},
   "outputs": [
    {
     "name": "stdout",
     "output_type": "stream",
     "text": [
      "Training started..\n",
      "Training ended..\n",
      "\n",
      "Results:\n",
      "\n",
      "Best params = {'alpha': 0.01, 'learning_rate': 'optimal', 'max_iter': 1000, 'penalty': 'l2'}\n",
      "Best score = 0.9463258092962394\n",
      "Mean train score = 0.9433363824065601\n",
      "Mean val  score = 0.9428567153165529\n",
      "Total training time = 0:00:02.571460\n"
     ]
    }
   ],
   "source": [
    "sgd_hyptune(x_train, y_train)"
   ]
  },
  {
   "cell_type": "code",
   "execution_count": 23,
   "metadata": {},
   "outputs": [],
   "source": [
    "def train_evaluate_sgd(x_train, y_train, x_test, y_test):\n",
    "    sgd = SGDClassifier(alpha=0.01, learning_rate='optimal', penalty='l2', max_iter=1000)\n",
    "    sgd.fit(x_train, y_train)\n",
    "    y_pred = sgd.predict(x_test)\n",
    "\n",
    "    # Results.\n",
    "    cm = confusion_matrix(y_test, y_pred)\n",
    "    cm_df = pd.DataFrame(cm)\n",
    "    \n",
    "    classif_rep = classification_report(y_pred, y_test)\n",
    "    print('Classification report:\\n')\n",
    "    print(classif_rep)\n",
    "    print()\n",
    "    \n",
    "    sn.heatmap(cm_df, annot=True, cmap='Blues', fmt='g')\n",
    "    plt.title('Confusion Matrix (Test Data)') \n",
    "    plt.xlabel('Predicted') \n",
    "    plt.ylabel('True') \n",
    "    plt.show()"
   ]
  },
  {
   "cell_type": "code",
   "execution_count": 24,
   "metadata": {},
   "outputs": [
    {
     "name": "stdout",
     "output_type": "stream",
     "text": [
      "Classification report:\n",
      "\n",
      "              precision    recall  f1-score   support\n",
      "\n",
      "           0       0.98      0.97      0.97      4436\n",
      "           1       0.74      0.82      0.78       525\n",
      "\n",
      "    accuracy                           0.95      4961\n",
      "   macro avg       0.86      0.89      0.88      4961\n",
      "weighted avg       0.95      0.95      0.95      4961\n",
      "\n",
      "\n"
     ]
    },
    {
     "data": {
      "image/png": "[encoded data removed]",
      "text/plain": [
       "<Figure size 432x288 with 2 Axes>"
      ]
     },
     "metadata": {
      "needs_background": "light"
     },
     "output_type": "display_data"
    }
   ],
   "source": [
    "train_evaluate_sgd(x_train, y_train, x_test, y_test)"
   ]
  },
  {
   "cell_type": "markdown",
   "metadata": {},
   "source": [
    "### Results summary of core classifiers\n",
    "Here, recall & f1 are of label 1 only. Accuracy represents the overall models performance."
   ]
  },
  {
   "cell_type": "markdown",
   "metadata": {},
   "source": [
    "| Classifier                  \t| Recall \t| F1   \t| Accuracy \t|\n",
    "|-----------------------------\t|--------\t|------\t|----------\t|\n",
    "| Logistic Regression         \t| 0.79  \t| 0.77 \t| 0.95     \t|\n",
    "| SVM                         \t| 0.80   \t| 0.77 \t| 0.95     \t|\n",
    "| Decision Trees              \t| 0.90   \t| 0.91 \t| 0.98     \t|\n",
    "| Random Forest               \t| 0.87   \t| 0.89 \t| 0.97     \t|\n",
    "| Stochastic Gradient Descent \t| 0.82   \t| 0.78 \t| 0.95     \t|"
   ]
  },
  {
   "cell_type": "markdown",
   "metadata": {},
   "source": [
    "### Core ensemble methods"
   ]
  },
  {
   "cell_type": "code",
   "execution_count": 26,
   "metadata": {},
   "outputs": [],
   "source": [
    "def generate_results(y_test, y_pred):\n",
    "    \"\"\"\n",
    "    Generate Confusion Matrix and Classification Report for\n",
    "    a given pair of y_pred and y_test values\n",
    "    \"\"\"\n",
    "    cm = confusion_matrix(y_test, y_pred)\n",
    "    cm_df = pd.DataFrame(cm)\n",
    "    \n",
    "    report = classification_report(y_pred, y_test)\n",
    "    print(f\"Classification Report: \\n{report}\\n\")\n",
    "    \n",
    "    sn.heatmap(cm_df, annot=True, cmap=\"Blues\", fmt=\"g\")\n",
    "    plt.title(\"Confustion Matrix (Test Data)\")\n",
    "    plt.xlabel(\"Predicted\")\n",
    "    plt.ylabel(\"True\")\n",
    "    plt.show()"
   ]
  },
  {
   "cell_type": "markdown",
   "metadata": {},
   "source": [
    "##### Voting classifier"
   ]
  },
  {
   "cell_type": "code",
   "execution_count": 27,
   "metadata": {},
   "outputs": [],
   "source": [
    "def train_evaluate_voting(x_train, y_train, x_test, y_test):\n",
    "    dt_clf = DecisionTreeClassifier(criterion='entropy', max_depth=100)\n",
    "    rf_clf = RandomForestClassifier(criterion='gini', max_depth=100, n_estimators=30)\n",
    "    sgd_clf = SGDClassifier(alpha=0.001, learning_rate=\"optimal\", max_iter=1000, penalty=\"l2\")\n",
    "    \n",
    "    ensemble = [\n",
    "        (\"rf\", rf_clf),\n",
    "        (\"dt\", dt_clf),\n",
    "        (\"sgd\", sgd_clf)\n",
    "    ]\n",
    "\n",
    "    voting_clf = VotingClassifier(estimators=ensemble)\n",
    "    voting_clf.fit(x_train, y_train)\n",
    "    y_pred = voting_clf.predict(x_test)\n",
    "    \n",
    "    # Results\n",
    "    generate_results(y_test, y_pred)"
   ]
  },
  {
   "cell_type": "code",
   "execution_count": 28,
   "metadata": {},
   "outputs": [
    {
     "name": "stdout",
     "output_type": "stream",
     "text": [
      "Classification Report: \n",
      "              precision    recall  f1-score   support\n",
      "\n",
      "           0       0.99      0.99      0.99      4394\n",
      "           1       0.90      0.91      0.90       567\n",
      "\n",
      "    accuracy                           0.98      4961\n",
      "   macro avg       0.94      0.95      0.95      4961\n",
      "weighted avg       0.98      0.98      0.98      4961\n",
      "\n",
      "\n"
     ]
    },
    {
     "data": {
      "image/png": "[encoded data removed]",
      "text/plain": [
       "<Figure size 432x288 with 2 Axes>"
      ]
     },
     "metadata": {
      "needs_background": "light"
     },
     "output_type": "display_data"
    }
   ],
   "source": [
    "train_evaluate_voting(x_train, y_train, x_test, y_test)"
   ]
  },
  {
   "cell_type": "markdown",
   "metadata": {},
   "source": [
    "##### Adaboost classifier"
   ]
  },
  {
   "cell_type": "code",
   "execution_count": 29,
   "metadata": {},
   "outputs": [],
   "source": [
    "def train_evaluate_adaboost(x_train, y_train, x_test, y_test):\n",
    "    dt_clf =  DecisionTreeClassifier(criterion='entropy', max_depth=100)\n",
    "    adaboost_clf = AdaBoostClassifier(base_estimator=dt_clf)\n",
    "    \n",
    "    adaboost_clf.fit(x_train, y_train)\n",
    "    y_pred = adaboost_clf.predict(x_test)\n",
    "        \n",
    "    generate_results(y_test, y_pred)"
   ]
  },
  {
   "cell_type": "code",
   "execution_count": 30,
   "metadata": {},
   "outputs": [
    {
     "name": "stdout",
     "output_type": "stream",
     "text": [
      "Classification Report: \n",
      "              precision    recall  f1-score   support\n",
      "\n",
      "           0       0.99      0.99      0.99      4372\n",
      "           1       0.92      0.90      0.91       589\n",
      "\n",
      "    accuracy                           0.98      4961\n",
      "   macro avg       0.95      0.94      0.95      4961\n",
      "weighted avg       0.98      0.98      0.98      4961\n",
      "\n",
      "\n"
     ]
    },
    {
     "data": {
      "image/png": "[encoded data removed]",
      "text/plain": [
       "<Figure size 432x288 with 2 Axes>"
      ]
     },
     "metadata": {
      "needs_background": "light"
     },
     "output_type": "display_data"
    }
   ],
   "source": [
    "train_evaluate_adaboost(x_train, y_train, x_test, y_test)"
   ]
  },
  {
   "cell_type": "markdown",
   "metadata": {},
   "source": [
    "##### Bagging classifier"
   ]
  },
  {
   "cell_type": "code",
   "execution_count": 31,
   "metadata": {},
   "outputs": [],
   "source": [
    "def train_evaluate_bagging(x_train, y_train, x_test, y_test):\n",
    "    dt_clf =  DecisionTreeClassifier(criterion='entropy', max_depth=100)\n",
    "    bagging_clf = BaggingClassifier(base_estimator=dt_clf)\n",
    "    \n",
    "    bagging_clf.fit(x_train, y_train)\n",
    "    y_pred = bagging_clf.predict(x_test)\n",
    "    \n",
    "    generate_results(y_test, y_pred)"
   ]
  },
  {
   "cell_type": "code",
   "execution_count": 32,
   "metadata": {},
   "outputs": [
    {
     "name": "stdout",
     "output_type": "stream",
     "text": [
      "Classification Report: \n",
      "              precision    recall  f1-score   support\n",
      "\n",
      "           0       0.99      0.99      0.99      4392\n",
      "           1       0.91      0.92      0.92       569\n",
      "\n",
      "    accuracy                           0.98      4961\n",
      "   macro avg       0.95      0.95      0.95      4961\n",
      "weighted avg       0.98      0.98      0.98      4961\n",
      "\n",
      "\n"
     ]
    },
    {
     "data": {
      "image/png": "[encoded data removed]",
      "text/plain": [
       "<Figure size 432x288 with 2 Axes>"
      ]
     },
     "metadata": {
      "needs_background": "light"
     },
     "output_type": "display_data"
    }
   ],
   "source": [
    "train_evaluate_bagging(x_train, y_train, x_test, y_test)"
   ]
  },
  {
   "cell_type": "markdown",
   "metadata": {},
   "source": [
    "### Results summary of core ensemble methods\n",
    "Here, recall & f1 are of label 1 only. Accuracy represents the overall models performance."
   ]
  },
  {
   "cell_type": "markdown",
   "metadata": {},
   "source": [
    "| Classifier          \t| Recall \t| F1   \t| Accuracy \t|\n",
    "|---------------------\t|--------\t|------\t|----------\t|\n",
    "| Voting Classifier   \t| 0.91  \t| 0.90 \t| 0.98     \t|\n",
    "| Adaboost Classifier \t| 0.90   \t| 0.91\t| 0.98     \t|\n",
    "| Bagging Classifier  \t| 0.92   \t| 0.92 \t| 0.98     \t|"
   ]
  }
 ],
 "metadata": {
  "interpreter": {
   "hash": "32097e69bc79c595731a7497feac30fb46b046080f88a2597586ab8db5f4f542"
  },
  "kernelspec": {
   "display_name": "Python 3.8.4 64-bit ('venv': venv)",
   "language": "python",
   "name": "python3"
  },
  "language_info": {
   "codemirror_mode": {
    "name": "ipython",
    "version": 3
   },
   "file_extension": ".py",
   "mimetype": "text/x-python",
   "name": "python",
   "nbconvert_exporter": "python",
   "pygments_lexer": "ipython3",
   "version": "3.8.4"
  },
  "orig_nbformat": 4
 },
 "nbformat": 4,
 "nbformat_minor": 2
}
